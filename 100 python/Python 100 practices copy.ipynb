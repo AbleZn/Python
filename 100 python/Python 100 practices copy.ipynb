{
 "cells": [
  {
   "cell_type": "code",
   "execution_count": 1,
   "metadata": {},
   "outputs": [
    {
     "name": "stdout",
     "output_type": "stream",
     "text": [
      "203,217,224,231,238,252,259,266,273,287,294,301,308\n"
     ]
    }
   ],
   "source": [
    "# 001\n",
    "# Description: Write a program which will find all such numbers which are divisible by 7 but are not a multiple of 5,\n",
    "#              between 200 and 320 (both included).The numbers obtained should be printed in a comma-separated\n",
    "#              sequence on a single line.\n",
    "\n",
    "res = []\n",
    "for num in range(200, 321):\n",
    "    if num % 7 == 0 and num % 5 != 0:\n",
    "        res.append(str(num))\n",
    "print(','.join(res))"
   ]
  },
  {
   "cell_type": "code",
   "execution_count": 2,
   "metadata": {},
   "outputs": [
    {
     "name": "stdout",
     "output_type": "stream",
     "text": [
      "pls input a number: 5\n",
      "120\n"
     ]
    }
   ],
   "source": [
    "# 002\n",
    "# Description: Write a program which can compute the factorial of a given numbers.\n",
    "#              The results should be printed in a comma-separated sequence on a single line.\n",
    "#              Suppose the following input is supplied to the program:\n",
    "\n",
    "\n",
    "def factorial(num):\n",
    "    if num == 0 or num == 1:\n",
    "        return 1\n",
    "    return factorial(num - 1) * num\n",
    "\n",
    "\n",
    "num = int(input('pls input a number: '))\n",
    "print(factorial(num))"
   ]
  },
  {
   "cell_type": "code",
   "execution_count": 3,
   "metadata": {},
   "outputs": [
    {
     "name": "stdout",
     "output_type": "stream",
     "text": [
      "pls input a number: 5\n",
      "{1: 1, 2: 4, 3: 9, 4: 16, 5: 25}\n"
     ]
    }
   ],
   "source": [
    "# 003\n",
    "# Description: With a given integral number n, write a program to generate a dictionary that contains (i, i*i) such\n",
    "#              that is an integral number between 1 and n (both included). and then the program should print the\n",
    "#              dictionary.\n",
    "\n",
    "num = int(input('pls input a number: '))\n",
    "dict = {}\n",
    "for i in range(1, num + 1):\n",
    "    dict[i] = i**2\n",
    "print(dict)"
   ]
  },
  {
   "cell_type": "code",
   "execution_count": 4,
   "metadata": {},
   "outputs": [
    {
     "name": "stdout",
     "output_type": "stream",
     "text": [
      "['12', '23', '45', '68', '21', '43', '87']\n",
      "('12', '23', '45', '68', '21', '43', '87')\n"
     ]
    }
   ],
   "source": [
    "# 004\n",
    "# Description: Write a program which accepts a sequence of comma-separated numbers from console and generate a list\n",
    "#              and a tuple which contains every number.\n",
    "\n",
    "seq = '12,23,45,68,21,43,87'\n",
    "l = seq.split(',')\n",
    "t = tuple(l)\n",
    "print(l)\n",
    "print(t)"
   ]
  },
  {
   "cell_type": "code",
   "execution_count": 5,
   "metadata": {},
   "outputs": [
    {
     "name": "stdout",
     "output_type": "stream",
     "text": [
      "pls input something: information\n",
      "INFORMATION\n"
     ]
    }
   ],
   "source": [
    "# 005\n",
    "# # Description: Define a class which has at least two methods:\n",
    "#                getString: to get a string from console input # printString: to print the string in upper case.\n",
    "#                Also please include simple test function to test the class methods.\n",
    "\n",
    "\n",
    "class UpperCase(object):\n",
    "    def __init__(self):\n",
    "        self.s = ''\n",
    "\n",
    "    def getString(self):\n",
    "        self.s = input('pls input something: ')\n",
    "\n",
    "    def upper(self):\n",
    "        return self.s.upper()\n",
    "\n",
    "\n",
    "u = UpperCase()\n",
    "u.getString()\n",
    "print(u.upper())"
   ]
  },
  {
   "cell_type": "code",
   "execution_count": 12,
   "metadata": {},
   "outputs": [
    {
     "name": "stdout",
     "output_type": "stream",
     "text": [
      "pls input your comma-separated nums:2,3,4\n",
      "[3, 3, 4]\n"
     ]
    }
   ],
   "source": [
    "# 006\n",
    "# Description: Write a program that calculates and prints the value according to the given formula:\n",
    "#                       Q = Square root of [(2 * C * D)/H]\n",
    "#              Following are the fixed values of C and H: C is 50. H is 30.\n",
    "#              D is the variable whose values should be input to your program in a comma-separated sequence.\n",
    "\n",
    "import math\n",
    "\n",
    "\n",
    "def convert(D):\n",
    "    C = 50\n",
    "    H = 30\n",
    "    return int(round(math.sqrt(2 * C * float(D) / H)))\n",
    "\n",
    "\n",
    "items = [int(x) for x in input('pls input your comma-separated nums:').split(',')]\n",
    "res = []\n",
    "for num in items:\n",
    "    res.append(convert(num))\n",
    "print(res)"
   ]
  },
  {
   "cell_type": "code",
   "execution_count": 15,
   "metadata": {},
   "outputs": [
    {
     "name": "stdout",
     "output_type": "stream",
     "text": [
      "pls input X and Y: 3,4\n",
      "[[0, 0, 0, 0], [0, 1, 2, 3], [0, 2, 4, 6]]\n"
     ]
    }
   ],
   "source": [
    "# 007\n",
    "# Description: Write a program which takes 2 digits, X,Y as input and generates a 2-dimensional array. The element\n",
    "#              value in the i-th row and j-th column of the array should be i*j.\n",
    "#              Note: i=0,1.., X-1; j=0,1 !=Y-1.\n",
    "\n",
    "dimensions = [int(x) for x in input('pls input X and Y: ').split(',')]\n",
    "x = dimensions[0]\n",
    "y = dimensions[1]\n",
    "\n",
    "res = [[0 for col in range(y)] for row in range(x)]\n",
    "for row in range(x):\n",
    "    for col in range(y):\n",
    "        res[row][col] = row * col\n",
    "print(res)"
   ]
  },
  {
   "cell_type": "code",
   "execution_count": 20,
   "metadata": {},
   "outputs": [
    {
     "name": "stdout",
     "output_type": "stream",
     "text": [
      "pls input your comma-separated sequence: DB,information, apple\n",
      " apple,DB,information\n"
     ]
    }
   ],
   "source": [
    "# 008\n",
    "# Description: Write a program that accepts a comma separated sequence of words as input and prints the words in a\n",
    "#              comma-separated sequence after sorting them alphabetically.\n",
    "\n",
    "seq = input('pls input your comma-separated sequence: ').split(',')\n",
    "seq.sort()\n",
    "print(','.join(seq))"
   ]
  },
  {
   "cell_type": "code",
   "execution_count": null,
   "metadata": {},
   "outputs": [],
   "source": [
    "# 009"
   ]
  },
  {
   "cell_type": "code",
   "execution_count": null,
   "metadata": {},
   "outputs": [],
   "source": [
    "# 010"
   ]
  },
  {
   "cell_type": "code",
   "execution_count": null,
   "metadata": {},
   "outputs": [],
   "source": []
  },
  {
   "cell_type": "code",
   "execution_count": null,
   "metadata": {},
   "outputs": [],
   "source": []
  },
  {
   "cell_type": "code",
   "execution_count": null,
   "metadata": {},
   "outputs": [],
   "source": []
  },
  {
   "cell_type": "code",
   "execution_count": null,
   "metadata": {},
   "outputs": [],
   "source": []
  },
  {
   "cell_type": "code",
   "execution_count": null,
   "metadata": {},
   "outputs": [],
   "source": []
  },
  {
   "cell_type": "code",
   "execution_count": null,
   "metadata": {},
   "outputs": [],
   "source": []
  },
  {
   "cell_type": "code",
   "execution_count": null,
   "metadata": {},
   "outputs": [],
   "source": []
  },
  {
   "cell_type": "code",
   "execution_count": null,
   "metadata": {},
   "outputs": [],
   "source": []
  },
  {
   "cell_type": "code",
   "execution_count": null,
   "metadata": {},
   "outputs": [],
   "source": []
  },
  {
   "cell_type": "code",
   "execution_count": null,
   "metadata": {},
   "outputs": [],
   "source": []
  },
  {
   "cell_type": "code",
   "execution_count": null,
   "metadata": {},
   "outputs": [],
   "source": []
  },
  {
   "cell_type": "code",
   "execution_count": null,
   "metadata": {},
   "outputs": [],
   "source": []
  },
  {
   "cell_type": "code",
   "execution_count": null,
   "metadata": {},
   "outputs": [],
   "source": []
  }
 ],
 "metadata": {
  "kernelspec": {
   "display_name": "Python 3",
   "language": "python",
   "name": "python3"
  },
  "language_info": {
   "codemirror_mode": {
    "name": "ipython",
    "version": 3
   },
   "file_extension": ".py",
   "mimetype": "text/x-python",
   "name": "python",
   "nbconvert_exporter": "python",
   "pygments_lexer": "ipython3",
   "version": "3.6.3"
  }
 },
 "nbformat": 4,
 "nbformat_minor": 2
}
