{
 "cells": [
  {
   "cell_type": "code",
   "execution_count": 1,
   "metadata": {},
   "outputs": [
    {
     "name": "stdout",
     "output_type": "stream",
     "text": [
      "203,217,224,231,238,252,259,266,273,287,294,301,308\n"
     ]
    }
   ],
   "source": [
    "# -*- coding: utf-8 -*-\n",
    "# 001\n",
    "# Description: Write a program which will find all such numbers which are divisible by 7 but are not a multiple of 5,\n",
    "#              between 200 and 320 (both included).The numbers obtained should be printed in a comma-separated\n",
    "#              sequence on a single line.\n",
    "\n",
    "res = []\n",
    "for num in range(200, 321):\n",
    "    if num % 7 == 0 and num % 5 != 0:\n",
    "        res.append(str(num))\n",
    "print(','.join(res))"
   ]
  },
  {
   "cell_type": "code",
   "execution_count": 2,
   "metadata": {},
   "outputs": [
    {
     "name": "stdout",
     "output_type": "stream",
     "text": [
      "pls input a number: 5\n",
      "120\n"
     ]
    }
   ],
   "source": [
    "# 002\n",
    "# Description: Write a program which can compute the factorial of a given numbers.\n",
    "#              The results should be printed in a comma-separated sequence on a single line.\n",
    "#              Suppose the following input is supplied to the program:\n",
    "\n",
    "\n",
    "def factorial(num):\n",
    "    if num == 0 or num == 1:\n",
    "        return 1\n",
    "    return factorial(num - 1) * num\n",
    "\n",
    "\n",
    "num = int(input('pls input a number: '))\n",
    "print(factorial(num))"
   ]
  },
  {
   "cell_type": "code",
   "execution_count": 3,
   "metadata": {},
   "outputs": [
    {
     "name": "stdout",
     "output_type": "stream",
     "text": [
      "pls input a number: 5\n",
      "{1: 1, 2: 4, 3: 9, 4: 16, 5: 25}\n"
     ]
    }
   ],
   "source": [
    "# 003\n",
    "# Description: With a given integral number n, write a program to generate a dictionary that contains (i, i*i) such\n",
    "#              that is an integral number between 1 and n (both included). and then the program should print the\n",
    "#              dictionary.\n",
    "\n",
    "num = int(input('pls input a number: '))\n",
    "dict = {}\n",
    "for i in range(1, num + 1):\n",
    "    dict[i] = i**2\n",
    "print(dict)"
   ]
  },
  {
   "cell_type": "code",
   "execution_count": 4,
   "metadata": {},
   "outputs": [
    {
     "name": "stdout",
     "output_type": "stream",
     "text": [
      "['12', '23', '45', '68', '21', '43', '87']\n",
      "('12', '23', '45', '68', '21', '43', '87')\n"
     ]
    }
   ],
   "source": [
    "# 004\n",
    "# Description: Write a program which accepts a sequence of comma-separated numbers from console and generate a list\n",
    "#              and a tuple which contains every number.\n",
    "\n",
    "seq = '12,23,45,68,21,43,87'\n",
    "l = seq.split(',')\n",
    "t = tuple(l)\n",
    "print(l)\n",
    "print(t)"
   ]
  },
  {
   "cell_type": "code",
   "execution_count": 5,
   "metadata": {},
   "outputs": [
    {
     "name": "stdout",
     "output_type": "stream",
     "text": [
      "pls input something: information retrieval\n",
      "INFORMATION RETRIEVAL\n"
     ]
    }
   ],
   "source": [
    "# 005\n",
    "# # Description: Define a class which has at least two methods:\n",
    "#                getString: to get a string from console input # printString: to print the string in upper case.\n",
    "#                Also please include simple test function to test the class methods.\n",
    "\n",
    "\n",
    "class UpperCase(object):\n",
    "    def __init__(self):\n",
    "        self.s = ''\n",
    "\n",
    "    def getString(self):\n",
    "        self.s = input('pls input something: ')\n",
    "\n",
    "    def upper(self):\n",
    "        return self.s.upper()\n",
    "\n",
    "\n",
    "u = UpperCase()\n",
    "u.getString()\n",
    "print(u.upper())"
   ]
  },
  {
   "cell_type": "code",
   "execution_count": 6,
   "metadata": {},
   "outputs": [
    {
     "name": "stdout",
     "output_type": "stream",
     "text": [
      "pls input your comma-separated nums:4,23\n",
      "[4, 9]\n"
     ]
    }
   ],
   "source": [
    "# 006\n",
    "# Description: Write a program that calculates and prints the value according to the given formula:\n",
    "#                       Q = Square root of [(2 * C * D)/H]\n",
    "#              Following are the fixed values of C and H: C is 50. H is 30.\n",
    "#              D is the variable whose values should be input to your program in a comma-separated sequence.\n",
    "\n",
    "import math\n",
    "\n",
    "\n",
    "def convert(D):\n",
    "    C = 50\n",
    "    H = 30\n",
    "    return int(round(math.sqrt(2 * C * float(D) / H)))\n",
    "\n",
    "\n",
    "items = [int(x) for x in input('pls input your comma-separated nums:').split(',')]\n",
    "res = []\n",
    "for num in items:\n",
    "    res.append(convert(num))\n",
    "print(res)"
   ]
  },
  {
   "cell_type": "code",
   "execution_count": 7,
   "metadata": {},
   "outputs": [
    {
     "name": "stdout",
     "output_type": "stream",
     "text": [
      "pls input X and Y: 2,3\n",
      "[[0, 0, 0], [0, 1, 2]]\n"
     ]
    }
   ],
   "source": [
    "# 007\n",
    "# Description: Write a program which takes 2 digits, X,Y as input and generates a 2-dimensional array. The element\n",
    "#              value in the i-th row and j-th column of the array should be i*j.\n",
    "#              Note: i=0,1.., X-1; j=0,1 !=Y-1.\n",
    "\n",
    "dimensions = [int(x) for x in input('pls input X and Y: ').split(',')]\n",
    "x = dimensions[0]\n",
    "y = dimensions[1]\n",
    "\n",
    "res = [[0 for col in range(y)] for row in range(x)]\n",
    "for row in range(x):\n",
    "    for col in range(y):\n",
    "        res[row][col] = row * col\n",
    "print(res)"
   ]
  },
  {
   "cell_type": "code",
   "execution_count": 8,
   "metadata": {},
   "outputs": [
    {
     "name": "stdout",
     "output_type": "stream",
     "text": [
      "pls input your comma-separated sequence: David,mike,intresting\n",
      "David,intresting,mike\n"
     ]
    }
   ],
   "source": [
    "# 008\n",
    "# Description: Write a program that accepts a comma separated sequence of words as input and prints the words in a\n",
    "#              comma-separated sequence after sorting them alphabetically.\n",
    "\n",
    "seq = input('pls input your comma-separated sequence: ').split(',')\n",
    "res = sorted(seq, key=lambda s: s.strip().lower())\n",
    "print(','.join(res))"
   ]
  },
  {
   "cell_type": "code",
   "execution_count": 9,
   "metadata": {},
   "outputs": [
    {
     "name": "stdout",
     "output_type": "stream",
     "text": [
      "pls input something:  Make David infor\n",
      " MAKE DAVID INFOR\n"
     ]
    }
   ],
   "source": [
    "# 009\n",
    "# Description: Write a program that accepts sequence of lines as input and prints the lines after making all\n",
    "#              characters in the sentence capitalized.\n",
    "\n",
    "line = [x.upper() for x in input('pls input something: ').split(' ')]\n",
    "print(' '.join(line))"
   ]
  },
  {
   "cell_type": "code",
   "execution_count": 10,
   "metadata": {},
   "outputs": [
    {
     "name": "stdout",
     "output_type": "stream",
     "text": [
      "pls input something: Can anyone recommend a mechanic in Cambridge who does welding repairs?\n",
      "a anyone Cambridge Can does in mechanic recommend repairs? welding who\n"
     ]
    }
   ],
   "source": [
    "# 010\n",
    "# Description: Write a program that accepts a sequence of whitespace separated words as input and prints the words\n",
    "#              after removing all duplicate words and sorting them alphanumerically.\n",
    "\n",
    "line = [x for x in input('pls input something: ').split(' ')]\n",
    "res = sorted(set(line), key=lambda x: x.lower())\n",
    "print(' '.join(res))"
   ]
  },
  {
   "cell_type": "code",
   "execution_count": 11,
   "metadata": {},
   "outputs": [
    {
     "name": "stdout",
     "output_type": "stream",
     "text": [
      "4 digit binary numbers: 1001,1111,1101,0011\n",
      "9\n",
      "15\n",
      "13\n",
      "3\n",
      "1111\n"
     ]
    }
   ],
   "source": [
    "# 011\n",
    "# Description: Write a program which accepts a sequence of comma separated 4 digit binary numbers as its input and\n",
    "#              then check whether they are divisible by 5 or not. The numbers that are divisible by 5 are to be\n",
    "#              printed in a comma separated sequence.\n",
    "\n",
    "li = [x for x in input('4 digit binary numbers: ').split(',')]\n",
    "res = []\n",
    "\n",
    "for x in li:\n",
    "    dec_x = int(x, 2)\n",
    "    print(dec_x)\n",
    "    if not dec_x % 5:\n",
    "        res.append(x)\n",
    "print (','.join(res))"
   ]
  },
  {
   "cell_type": "code",
   "execution_count": 12,
   "metadata": {},
   "outputs": [
    {
     "name": "stdout",
     "output_type": "stream",
     "text": [
      "200,202,204,206,208,220,222,224,226,228,240,242,244,246,248,260,262,264,266,268,280,282,284,286,288\n"
     ]
    }
   ],
   "source": [
    "# 012\n",
    "# Description: Write a program, which will find all such numbers between 100 and 300 (both included) such that each\n",
    "#              digit of the number is an even number. The numbers obtained should be printed in a comma-separated\n",
    "#              sequence on a single line.\n",
    "res = []\n",
    "for x in range(100, 301):\n",
    "    digit = [d for d in str(x)]\n",
    "    pa = False\n",
    "    for d in digit:\n",
    "        if int(d) % 2 !=0:\n",
    "            pa = True\n",
    "            break\n",
    "    if not pa:\n",
    "        res.append(str(x))    \n",
    "print(','.join(res))"
   ]
  },
  {
   "cell_type": "code",
   "execution_count": 13,
   "metadata": {},
   "outputs": [
    {
     "name": "stdout",
     "output_type": "stream",
     "text": [
      "please input sequence of text:akdjflkaj232lajdlkja\n",
      "{'DIGITS': 3, 'LETTERS': 17}\n"
     ]
    }
   ],
   "source": [
    "# 013\n",
    "# Description: Write a program that accepts a sentence and calculate the number of letters and digits.\n",
    "# s = raw_input('please input sequence of text:')\n",
    "# d = {'DIGITS': 0, 'LETTERS': 0}\n",
    "\n",
    "s = input('please input sequence of text:')\n",
    "di = {'DIGITS': 0, 'LETTERS': 0}\n",
    "\n",
    "for char in s:\n",
    "    if char.isdigit():\n",
    "        di['DIGITS'] += 1\n",
    "    elif char.isalpha():\n",
    "        di['LETTERS'] += 1\n",
    "    else:\n",
    "        pass\n",
    "print(di)"
   ]
  },
  {
   "cell_type": "code",
   "execution_count": 14,
   "metadata": {},
   "outputs": [
    {
     "name": "stdout",
     "output_type": "stream",
     "text": [
      "pls input sequence of text: DaividlkfjlkajDEOI\n",
      "{'LOWER': 13, 'UPPER': 5}\n"
     ]
    }
   ],
   "source": [
    "# 014\n",
    "# Description: Write a program that accepts a sentence and calculate the number of upper case letters and lower case\n",
    "#              letters.\n",
    "\n",
    "s = input('pls input sequence of text: ')\n",
    "d = {'LOWER': 0, 'UPPER': 0}\n",
    "\n",
    "for char in s:\n",
    "    if char.islower():\n",
    "        d['LOWER'] +=1\n",
    "    elif char.isupper():\n",
    "        d['UPPER'] +=1\n",
    "    else:\n",
    "        pass\n",
    "print(d)"
   ]
  },
  {
   "cell_type": "code",
   "execution_count": 15,
   "metadata": {},
   "outputs": [
    {
     "name": "stdout",
     "output_type": "stream",
     "text": [
      "pls input a num:5\n",
      "6170\n"
     ]
    }
   ],
   "source": [
    "# 015\n",
    "# Description: Write a program that computes the value of a+aa+aaa+aaaa with a given digit as the value of a.\n",
    "num = input('pls input a num:')\n",
    "a = int(num)\n",
    "aa = int(num * 2)\n",
    "aaa = int(num * 3)\n",
    "aaaa = int(num * 4)\n",
    "print(a + aa + aaa + aaaa)"
   ]
  },
  {
   "cell_type": "code",
   "execution_count": 16,
   "metadata": {},
   "outputs": [
    {
     "name": "stdout",
     "output_type": "stream",
     "text": [
      "pls input comma-seperated nums32,23,42,2,32,4,5\n",
      "['23', '5']\n"
     ]
    }
   ],
   "source": [
    "# 016\n",
    "# Description: Use a list comprehension to square each odd number in a list. The list is input by a sequence of\n",
    "#              comma-separated numbers.\n",
    "\n",
    "res = [\n",
    "    x for x in input('pls input comma-seperated nums: ').split(',') if int(x) % 2 != 0\n",
    "]\n",
    "print(res)"
   ]
  },
  {
   "cell_type": "code",
   "execution_count": 17,
   "metadata": {},
   "outputs": [
    {
     "name": "stdout",
     "output_type": "stream",
     "text": [
      "D:deposit and W:withdrawal \n",
      "D 2000\n",
      "D:deposit and W:withdrawal \n",
      "W 100\n",
      "D:deposit and W:withdrawal \n",
      "W 200\n",
      "D:deposit and W:withdrawal \n",
      "\n",
      "1700\n"
     ]
    }
   ],
   "source": [
    "# 017\n",
    "# Description: Write a program that computes the net amount of a bank account based a transaction log from console input.\n",
    "#              The transaction log format is shown as following:\n",
    "# D 100\n",
    "# W 200\n",
    "# D means deposit while W means withdrawal.\n",
    "\n",
    "res = 0\n",
    "\n",
    "while True:\n",
    "    s = input('D:deposit and W:withdrawal \\n')\n",
    "    if not s:\n",
    "        break\n",
    "\n",
    "    value = s.split(' ')\n",
    "    operation = value[0]\n",
    "    amount = value[1]\n",
    "\n",
    "    if operation == 'D':\n",
    "        res += int(amount)\n",
    "    elif operation == 'W':\n",
    "        res -= int(amount)\n",
    "    else:\n",
    "        pass\n",
    "\n",
    "print(res)"
   ]
  },
  {
   "cell_type": "code",
   "execution_count": 18,
   "metadata": {},
   "outputs": [
    {
     "name": "stdout",
     "output_type": "stream",
     "text": [
      "PassWord: Bypass1\n",
      "At least 1 character between [$#@]\n",
      "PassWord: Bypass1#\n",
      "Well done! Your password is:Bypass1#\n"
     ]
    }
   ],
   "source": [
    "# 018\n",
    "# Description: A website requires the users to input username and password to register. Write a program to check the\n",
    "#              validity of password input by users.\n",
    "#\n",
    "# Following are the criteria for checking the password:\n",
    "# 1. At least 1 letter between [a-z]\n",
    "# 2. At least 1 number between [0-9]\n",
    "# 1. At least 1 letter between [A-Z]\n",
    "# 3. At least 1 character from [$#@]\n",
    "# 4. Minimum length of transaction password: 6\n",
    "# 5. Maximum length of transaction password: 12\n",
    "# Your program should accept a sequence of comma separated passwords and will check them according to the above criteria.\n",
    "#     Passwords that match the criteria are to be printed, each separated by a comma.\n",
    "\n",
    "import re\n",
    "\n",
    "while True:\n",
    "    ps = input('PassWord: ')\n",
    "    if not ps:\n",
    "        break\n",
    "    if not re.search('[a-z]',ps):\n",
    "        print('At least 1 letter between [a-z]')\n",
    "        continue\n",
    "    if not re.search('[0-9]',ps):\n",
    "        print('At least 1 number between [0-9]')\n",
    "        continue\n",
    "    if not re.search('[A-Z]',ps):\n",
    "        print('At least 1 letter between [A-Z]')\n",
    "        continue\n",
    "    if not re.search('[$#@]',ps):\n",
    "        print('At least 1 character between [$#@]')\n",
    "        continue\n",
    "    if len(ps) < 6:\n",
    "        print('Minimum length of transaction password: 6')\n",
    "        continue\n",
    "    if len(ps) > 12:\n",
    "        print('Maximum length of transaction password: 12')\n",
    "        continue\n",
    "    else:\n",
    "        print('Well done! Your password is:' + ps)\n",
    "        break   "
   ]
  },
  {
   "cell_type": "code",
   "execution_count": 19,
   "metadata": {},
   "outputs": [
    {
     "name": "stdout",
     "output_type": "stream",
     "text": [
      "pls input name, age and height:David,18,130\n",
      "pls input name, age and height:David,17,123\n",
      "pls input name, age and height:David,17,122\n",
      "pls input name, age and height:Mike,11,34\n",
      "pls input name, age and height:\n",
      "[('David', '17', '122'), ('David', '17', '123'), ('David', '18', '130'), ('Mike', '11', '34')]\n"
     ]
    }
   ],
   "source": [
    "# 019\n",
    "# Description: You are required to write a program to sort the (name, age, height) tuples by ascending order where name\n",
    "#              is string, age and height are numbers. The tuples are input by console. The sort criteria is:\n",
    "# 1: Sort based on name;\n",
    "# 2: Then sort based on age;\n",
    "# 3: Then sort by score.\n",
    "# The priority is that name > age > score.\n",
    "\n",
    "from operator import itemgetter\n",
    "# https://wiki.python.org/moin/HowTo/Sorting\n",
    "l = []\n",
    "while True:\n",
    "    s = input('pls input name, age and height:')\n",
    "    if not s:\n",
    "        break\n",
    "    l.append(tuple(s.split(',')))\n",
    "print(sorted(l, key=itemgetter(0, 1, 2)))"
   ]
  },
  {
   "cell_type": "code",
   "execution_count": 20,
   "metadata": {},
   "outputs": [
    {
     "name": "stdout",
     "output_type": "stream",
     "text": [
      "0\n",
      "7\n",
      "14\n",
      "21\n",
      "28\n",
      "35\n",
      "42\n",
      "49\n"
     ]
    }
   ],
   "source": [
    "# 020\n",
    "# Description: Define a class with a generator which can iterate the numbers, which are divisible by 7,\n",
    "#              between a given range 0 and n.\n",
    "\n",
    "\n",
    "def Genert(n):\n",
    "    i = 0\n",
    "    while i < n:\n",
    "        j = i\n",
    "        i += 1\n",
    "        if j % 7 == 0:\n",
    "            yield j\n",
    "\n",
    "\n",
    "for i in Genert(50):\n",
    "    print (i)"
   ]
  },
  {
   "cell_type": "code",
   "execution_count": 21,
   "metadata": {},
   "outputs": [
    {
     "name": "stdout",
     "output_type": "stream",
     "text": [
      "up 2\n",
      "down 4\n",
      "left 3\n",
      "right 7\n",
      "\n",
      "Distance:  4\n"
     ]
    }
   ],
   "source": [
    "# 021\n",
    "# Description: The numbers after the direction are steps. Please write a program to compute the distance from current\n",
    "#              position after a sequence of movement and original point. If the distance is a float, then just print\n",
    "#              the nearest integer.\n",
    "# Example:\n",
    "# If the following tuples are given as input to the program:\n",
    "# UP 5\n",
    "# DOWN 3\n",
    "# LEFT 3\n",
    "# RIGHT 2\n",
    "# Then, the output of the program should be:\n",
    "# 2\n",
    "\n",
    "import math\n",
    "\n",
    "pos = [0, 0]\n",
    "\n",
    "while True:\n",
    "    s = input()\n",
    "    if not s:\n",
    "        break\n",
    "\n",
    "    move = s.split(' ')\n",
    "    direction = move[0]\n",
    "    step = int(move[1])\n",
    "\n",
    "    if direction.lower() == 'up':\n",
    "        pos[1] += step\n",
    "    elif direction.lower() == 'down':\n",
    "        pos[1] -= step\n",
    "    elif direction.lower() == 'right':\n",
    "        pos[0] += step\n",
    "    elif direction.lower() == 'left':\n",
    "        pos[0] -= step\n",
    "    else:\n",
    "        pass\n",
    "\n",
    "print('Distance: ', int(round(math.sqrt(pos[0]**2 + pos[1]**2))))"
   ]
  },
  {
   "cell_type": "code",
   "execution_count": 123,
   "metadata": {},
   "outputs": [
    {
     "name": "stdout",
     "output_type": "stream",
     "text": [
      "pls input something: I like this pencil, do you like this?\n",
      "unsorted:  {'I': 1, 'like': 2, 'this': 2, 'pencil': 1, 'do': 1, 'you': 1}\n",
      "sorted results (according to the tf):  [('I', 1), ('pencil', 1), ('do', 1), ('you', 1), ('like', 2), ('this', 2)]\n",
      "sorted results (alphanumerically):  [('I', 1), ('do', 1), ('like', 2), ('pencil', 1), ('this', 2), ('you', 1)]\n"
     ]
    }
   ],
   "source": [
    "# 022\n",
    "# Description: Write a program to compute the frequency of the words from the input. The output should output after\n",
    "#              sorting the key alphanumerically.\n",
    "# I like this pencil, do you like this?\n",
    "\n",
    "import operator\n",
    "import re\n",
    "\n",
    "res = {}\n",
    "line = input('pls input something: ')\n",
    "line = re.sub(r'[^\\w\\s]', '', line)\n",
    "\n",
    "for word in line.split(' '):\n",
    "    res[word] = res.get(word, 0) + 1  #dict.get(key[, default])\n",
    "\n",
    "print('unsorted: ', res)\n",
    "\n",
    "# sort the dict according to the values\n",
    "tf = sorted(res.items(), key=operator.itemgetter(1))\n",
    "print('sorted results (according to the tf): ', tf)\n",
    "\n",
    "# sort the dict according to the keys\n",
    "al = sorted(res.items(), key=operator.itemgetter(0))\n",
    "print('sorted results (alphanumerically): ', al)"
   ]
  },
  {
   "cell_type": "code",
   "execution_count": 35,
   "metadata": {},
   "outputs": [
    {
     "name": "stdout",
     "output_type": "stream",
     "text": [
      "25\n"
     ]
    }
   ],
   "source": [
    "# 023\n",
    "# Description: Write a method which can calculate square value of number\n",
    "\n",
    "def square(num):\n",
    "    '''calculate square value of number'''\n",
    "    return num**2\n",
    "\n",
    "print(square(5))"
   ]
  },
  {
   "cell_type": "code",
   "execution_count": 36,
   "metadata": {},
   "outputs": [
    {
     "name": "stdout",
     "output_type": "stream",
     "text": [
      "25\n",
      "calculate square value of number\n"
     ]
    }
   ],
   "source": [
    "# 024\n",
    "# Description:  Python has many built-in functions, and if you do not know how to use it, you can read document online\n",
    "#               or find some books. But Python has a built-in document function for every built-in functions.\n",
    "#               Please write a program to print some Python built-in functions documents, such as abs(), int(),\n",
    "#               raw_input() And add document for your own function\n",
    "\n",
    "def square(num):\n",
    "    '''calculate square value of number'''\n",
    "    return num**2\n",
    "\n",
    "print(square(5))\n",
    "print(square.__doc__)"
   ]
  },
  {
   "cell_type": "code",
   "execution_count": 37,
   "metadata": {},
   "outputs": [
    {
     "name": "stdout",
     "output_type": "stream",
     "text": [
      "hi David\n"
     ]
    }
   ],
   "source": [
    "# 025\n",
    "# Description:  Define a class, which have a class parameter and have a same instance parameter.\n",
    "class Person(object):\n",
    "    name = 'someone'\n",
    "\n",
    "    def __init__(self, name=None):\n",
    "        self.name = name\n",
    "\n",
    "\n",
    "p = Person('David')\n",
    "print('hi ' + p.name)"
   ]
  },
  {
   "cell_type": "code",
   "execution_count": 39,
   "metadata": {},
   "outputs": [
    {
     "name": "stdout",
     "output_type": "stream",
     "text": [
      "5\n"
     ]
    }
   ],
   "source": [
    "# 026\n",
    "# Description: Define a function which can compute the sum of two numbers.\n",
    "\n",
    "def add(a,b):\n",
    "    return a+b\n",
    "\n",
    "print(add(2,3))"
   ]
  },
  {
   "cell_type": "code",
   "execution_count": 40,
   "metadata": {},
   "outputs": [
    {
     "name": "stdout",
     "output_type": "stream",
     "text": [
      "3\n",
      "<class 'str'>\n"
     ]
    }
   ],
   "source": [
    "# 027\n",
    "# Description: Define a function that can convert a integer into a string and print it in console.\n",
    "\n",
    "def convert(num):\n",
    "    return str(num)\n",
    "\n",
    "res = convert(3)\n",
    "print(res)\n",
    "print(type(res))"
   ]
  },
  {
   "cell_type": "code",
   "execution_count": 41,
   "metadata": {},
   "outputs": [
    {
     "name": "stdout",
     "output_type": "stream",
     "text": [
      "324\n",
      "<class 'int'>\n"
     ]
    }
   ],
   "source": [
    "# 028\n",
    "# Description: Define a function that can convert a string into a int and print it in console.\n",
    "def convert2(s):\n",
    "    return int(s)\n",
    "\n",
    "res = convert2('324')\n",
    "print(res)\n",
    "print(type(res))"
   ]
  },
  {
   "cell_type": "code",
   "execution_count": 42,
   "metadata": {},
   "outputs": [
    {
     "name": "stdout",
     "output_type": "stream",
     "text": [
      "7\n"
     ]
    }
   ],
   "source": [
    "# 029\n",
    "# Description: Define a function that can receive two integral numbers in string form and compute their sum and then\n",
    "#              print it in console.\n",
    "\n",
    "\n",
    "def addString(a, b):\n",
    "    return int(a) + int(b)\n",
    "\n",
    "\n",
    "res = addString('3', '4')\n",
    "print(res)"
   ]
  },
  {
   "cell_type": "code",
   "execution_count": 43,
   "metadata": {},
   "outputs": [
    {
     "name": "stdout",
     "output_type": "stream",
     "text": [
      "helloworld\n"
     ]
    }
   ],
   "source": [
    "# 030\n",
    "# Description: Define a function that can accept two strings as input and concatenate them and then print it in console.\n",
    "\n",
    "def conString(a,b):\n",
    "    return a+b\n",
    "\n",
    "print(conString('hello','world'))"
   ]
  },
  {
   "cell_type": "code",
   "execution_count": 55,
   "metadata": {},
   "outputs": [
    {
     "name": "stdout",
     "output_type": "stream",
     "text": [
      "information\n"
     ]
    }
   ],
   "source": [
    "# 031\n",
    "# Description: Define a function that can accept two strings as input and print the string with maximum length in\n",
    "#              console. If two strings have the same length, then the function should print all strings line by line.\n",
    "\n",
    "\n",
    "def comLen(s1, s2):\n",
    "    if (len(s1) > len(s2)):\n",
    "        print(s1)\n",
    "    elif (len(s1) < len(s2)):\n",
    "        print(s2)\n",
    "    else:\n",
    "        print(s1)\n",
    "        print(s2)\n",
    "\n",
    "\n",
    "comLen('information', 'retrieval')"
   ]
  },
  {
   "cell_type": "code",
   "execution_count": 61,
   "metadata": {},
   "outputs": [
    {
     "name": "stdout",
     "output_type": "stream",
     "text": [
      "100 is an even num\n",
      "101 is an odd num\n"
     ]
    }
   ],
   "source": [
    "# 032\n",
    "# Description: Define a function that can accept an integer number as input and print the \"It is an even number\" if\n",
    "#              the number is even, otherwise print \"It is an odd number\".\n",
    "\n",
    "\n",
    "def checkValue(num):\n",
    "    if (num % 2 == 0):\n",
    "        print('%d is an even num' % num)\n",
    "    else:\n",
    "        print('%d is an odd num' % num)\n",
    "\n",
    "\n",
    "checkValue(100)\n",
    "checkValue(101)"
   ]
  },
  {
   "cell_type": "code",
   "execution_count": 1,
   "metadata": {},
   "outputs": [
    {
     "name": "stdout",
     "output_type": "stream",
     "text": [
      "{1: 1, 2: 4, 3: 9, 4: 16, 5: 25}\n"
     ]
    }
   ],
   "source": [
    "# 033\n",
    "# Description: Define a function which can print a dictionary where the keys are numbers between 1 and 3\n",
    "\n",
    "\n",
    "def creatDict(num):\n",
    "    d = {}\n",
    "    for i in range(1, num + 1):\n",
    "        d[i] = i**2\n",
    "    return d\n",
    "\n",
    "\n",
    "print(creatDict(5))"
   ]
  },
  {
   "cell_type": "code",
   "execution_count": 2,
   "metadata": {},
   "outputs": [
    {
     "name": "stdout",
     "output_type": "stream",
     "text": [
      "{1: 1, 2: 4, 3: 9, 4: 16, 5: 25, 6: 36, 7: 49, 8: 64, 9: 81, 10: 100, 11: 121, 12: 144, 13: 169, 14: 196, 15: 225, 16: 256, 17: 289, 18: 324, 19: 361, 20: 400}\n"
     ]
    }
   ],
   "source": [
    "# 034\n",
    "# Description: Define a function which can print a dictionary where the keys are numbers between 1 and 20\n",
    "#              (both included) and the values are square of keys.\n",
    "\n",
    "print(creatDict(20))"
   ]
  },
  {
   "cell_type": "code",
   "execution_count": 7,
   "metadata": {},
   "outputs": [
    {
     "name": "stdout",
     "output_type": "stream",
     "text": [
      "1\n",
      "4\n",
      "9\n",
      "16\n",
      "25\n"
     ]
    }
   ],
   "source": [
    "# 035\n",
    "# Description: Define a function which can generate a dictionary where the keys are numbers between 1 and 20 (both\n",
    "#              included) and the values are square of keys. The function should just print the values only.\n",
    "\n",
    "res = creatDict(5)\n",
    "for key in res.keys():\n",
    "    print(res[key])"
   ]
  },
  {
   "cell_type": "code",
   "execution_count": 8,
   "metadata": {},
   "outputs": [
    {
     "name": "stdout",
     "output_type": "stream",
     "text": [
      "dict_keys([1, 2, 3, 4, 5, 6, 7, 8, 9, 10, 11, 12, 13, 14, 15, 16, 17, 18, 19, 20])\n"
     ]
    }
   ],
   "source": [
    "# 036\n",
    "# Description: Define a function which can generate a dictionary where the keys are numbers between 1 and 20\n",
    "#              (both included) and the values are square of keys. The function should just print the keys only.\n",
    "\n",
    "res = creatDict(20)\n",
    "print(res.keys())"
   ]
  },
  {
   "cell_type": "code",
   "execution_count": 13,
   "metadata": {},
   "outputs": [
    {
     "name": "stdout",
     "output_type": "stream",
     "text": [
      "[1, 4, 9, 16, 25, 36, 49, 64, 81, 100, 121, 144, 169, 196, 225, 256, 289, 324, 361, 400]\n"
     ]
    }
   ],
   "source": [
    "# 037\n",
    "# Description: Define a function which can generate and print a list where the values are square of numbers\n",
    "#              between 1 and 20 (both included).\n",
    "\n",
    "\n",
    "def creatList(num):\n",
    "    l = []\n",
    "    for i in range(1, num + 1):\n",
    "        l.append(i**2)\n",
    "    return l\n",
    "\n",
    "\n",
    "print(creatList(20))"
   ]
  },
  {
   "cell_type": "code",
   "execution_count": 12,
   "metadata": {},
   "outputs": [
    {
     "name": "stdout",
     "output_type": "stream",
     "text": [
      "[1, 4, 9, 16, 25]\n"
     ]
    }
   ],
   "source": [
    "# 038\n",
    "# Description: Define a function which can generate a list where the values are square of numbers between 1 and 20 (\n",
    "#              both included). Then the function needs to print the first 5 elements in the list.\n",
    "\n",
    "print(creatList(20)[:5])"
   ]
  },
  {
   "cell_type": "code",
   "execution_count": 16,
   "metadata": {},
   "outputs": [
    {
     "name": "stdout",
     "output_type": "stream",
     "text": [
      "[256, 289, 324, 361, 400]\n"
     ]
    }
   ],
   "source": [
    "# 039\n",
    "# Description: Define a function which can generate a list where the values are square of numbers between 1 and 20\n",
    "#              (both included). Then the function needs to print the last 5 elements in the list.\n",
    "print(creatList(20)[-5:])"
   ]
  },
  {
   "cell_type": "code",
   "execution_count": 17,
   "metadata": {},
   "outputs": [
    {
     "name": "stdout",
     "output_type": "stream",
     "text": [
      "[36, 49, 64, 81, 100, 121, 144, 169, 196, 225, 256, 289, 324, 361, 400]\n"
     ]
    }
   ],
   "source": [
    "# 040\n",
    "# Description: Define a function which can generate a list where the values are square of numbers between 1 and 20\n",
    "#              (both included). Then the function needs to print all values except the first 5 elements in the list.\n",
    "print(creatList(20)[5:])"
   ]
  },
  {
   "cell_type": "code",
   "execution_count": 18,
   "metadata": {},
   "outputs": [
    {
     "name": "stdout",
     "output_type": "stream",
     "text": [
      "(1, 4, 9, 16, 25, 36, 49, 64, 81, 100, 121, 144, 169, 196, 225, 256, 289, 324, 361, 400)\n"
     ]
    }
   ],
   "source": [
    "# 041\n",
    "# Description: Define a function which can generate and print a tuple where the value are square of numbers between 1\n",
    "#              and 20 (both included).\n",
    "print(tuple(creatList(20)))"
   ]
  },
  {
   "cell_type": "code",
   "execution_count": 27,
   "metadata": {},
   "outputs": [
    {
     "name": "stdout",
     "output_type": "stream",
     "text": [
      "(1, 2, 3, 4, 5)\n",
      "(6, 7, 8, 9, 10)\n"
     ]
    }
   ],
   "source": [
    "# 042\n",
    "# Description: With a given tuple (1,2,3,4,5,6,7,8,9,10), write a program to print the first half values in one line\n",
    "#              and the last half values in one line.\n",
    "\n",
    "# caution: difference between / and //\n",
    "tu = (1, 2, 3, 4, 5, 6, 7, 8, 9, 10)\n",
    "print(tu[:len(tu) // 2])\n",
    "print(tu[len(tu) // 2:])"
   ]
  },
  {
   "cell_type": "code",
   "execution_count": 31,
   "metadata": {},
   "outputs": [
    {
     "name": "stdout",
     "output_type": "stream",
     "text": [
      "(2, 4, 6, 8, 10)\n"
     ]
    }
   ],
   "source": [
    "# 043\n",
    "# Description: Write a program to generate and print another tuple whose values are even numbers in the given\n",
    "#              tuple (1,2,3,4,5,6,7,8,9,10).\n",
    "\n",
    "tu = (1, 2, 3, 4, 5, 6, 7, 8, 9, 10)\n",
    "res = tu[1::2]\n",
    "print(res)"
   ]
  },
  {
   "cell_type": "code",
   "execution_count": 33,
   "metadata": {},
   "outputs": [
    {
     "name": "stdout",
     "output_type": "stream",
     "text": [
      "YES\n",
      "Yes\n"
     ]
    }
   ],
   "source": [
    "# 044\n",
    "# Description: Write a program which accepts a string as input to print \"Yes\" if the string is \"yes\" or \"YES\" or \"Yes\",\n",
    "#              otherwise print \"No\".\n",
    "\n",
    "if (input().lower() == 'yes'):\n",
    "    print('Yes')\n",
    "else:\n",
    "    print('No')"
   ]
  },
  {
   "cell_type": "code",
   "execution_count": 35,
   "metadata": {},
   "outputs": [
    {
     "name": "stdout",
     "output_type": "stream",
     "text": [
      "[2, 4, 6, 8, 10]\n"
     ]
    }
   ],
   "source": [
    "# 045\n",
    "# Description: Write a program which can filter even numbers in a list by using filter function. The list is:\n",
    "#              [1,2,3,4,5,6,7,8,9,10]\n",
    "\n",
    "\n",
    "def evenNum(li):\n",
    "    res = list(filter(lambda x: x % 2 == 0, li))\n",
    "    return res\n",
    "\n",
    "\n",
    "li = [1, 2, 3, 4, 5, 6, 7, 8, 9, 10]\n",
    "print(evenNum(li))"
   ]
  },
  {
   "cell_type": "code",
   "execution_count": 39,
   "metadata": {},
   "outputs": [
    {
     "name": "stdout",
     "output_type": "stream",
     "text": [
      "[1, 4, 9, 16, 25, 36, 49, 64, 81, 100]\n"
     ]
    }
   ],
   "source": [
    "# 046\n",
    "# Description: Write a program which can map() to make a list whose elements are square of elements in\n",
    "#              [1,2,3,4,5,6,7,8,9,10].\n",
    "\n",
    "li = [1, 2, 3, 4, 5, 6, 7, 8, 9, 10]\n",
    "res = list(map(lambda x: x**2, li))\n",
    "print(res)"
   ]
  },
  {
   "cell_type": "code",
   "execution_count": 42,
   "metadata": {},
   "outputs": [
    {
     "name": "stdout",
     "output_type": "stream",
     "text": [
      "[4, 16, 36, 64, 100]\n"
     ]
    }
   ],
   "source": [
    "# 047\n",
    "# Description: Write a program which can map() and filter() to make a list whose elements are square of even number\n",
    "#              in [1,2,3,4,5,6,7,8,9,10].\n",
    "li = [1, 2, 3, 4, 5, 6, 7, 8, 9, 10]\n",
    "res = list(map(lambda x: x**2, list(filter(lambda x: x % 2 == 0, li))))\n",
    "print(res)"
   ]
  },
  {
   "cell_type": "code",
   "execution_count": 44,
   "metadata": {},
   "outputs": [
    {
     "name": "stdout",
     "output_type": "stream",
     "text": [
      "[2, 4, 6, 8, 10, 12, 14, 16, 18, 20]\n"
     ]
    }
   ],
   "source": [
    "# 048\n",
    "# Description: Write a program which can filter() to make a list whose elements are even number between 1 and 20\n",
    "#              (both included).\n",
    "\n",
    "print(list(filter(lambda x: x % 2 == 0, range(1, 21))))"
   ]
  },
  {
   "cell_type": "code",
   "execution_count": 45,
   "metadata": {},
   "outputs": [
    {
     "name": "stdout",
     "output_type": "stream",
     "text": [
      "[1, 4, 9, 16, 25, 36, 49, 64, 81, 100, 121, 144, 169, 196, 225, 256, 289, 324, 361, 400]\n"
     ]
    }
   ],
   "source": [
    "# 049\n",
    "# Description: Write a program which can map() to make a list whose elements are square of numbers between 1 and 20.\n",
    "print(list(map(lambda x: x**2, range(1, 21))))"
   ]
  },
  {
   "cell_type": "code",
   "execution_count": 46,
   "metadata": {},
   "outputs": [
    {
     "name": "stdout",
     "output_type": "stream",
     "text": [
      "USA\n",
      "USA\n"
     ]
    }
   ],
   "source": [
    "# 050\n",
    "# Description: Define a class named American which has a static method called printNationality.\n",
    "\n",
    "\n",
    "class American(object):\n",
    "    @staticmethod\n",
    "    def printNationality():\n",
    "        print('USA')\n",
    "\n",
    "\n",
    "p = American()\n",
    "p.printNationality()\n",
    "American.printNationality()"
   ]
  },
  {
   "cell_type": "code",
   "execution_count": 52,
   "metadata": {},
   "outputs": [
    {
     "name": "stdout",
     "output_type": "stream",
     "text": [
      "NewYorker\n"
     ]
    }
   ],
   "source": [
    "# 051\n",
    "# Description: Define a class named American and its subclass NewYorker.\n",
    "class NewYorker(American):\n",
    "    def printNationality(self):\n",
    "        print('NewYorker')\n",
    "\n",
    "\n",
    "n = NewYorker()\n",
    "n.printNationality()"
   ]
  },
  {
   "cell_type": "code",
   "execution_count": 54,
   "metadata": {},
   "outputs": [
    {
     "name": "stdout",
     "output_type": "stream",
     "text": [
      "78.53981633974483\n"
     ]
    }
   ],
   "source": [
    "# 052\n",
    "# Description: Define a class named Circle which can be constructed by a radius. The Circle class has a method which\n",
    "#              can compute the area.\n",
    "import math\n",
    "\n",
    "\n",
    "class Circle(object):\n",
    "    def __init__(self, radius):\n",
    "        self.radius = radius\n",
    "\n",
    "    def area(self):\n",
    "        return math.pi * (self.radius**2)\n",
    "\n",
    "\n",
    "c = Circle(5)\n",
    "print(c.area())"
   ]
  },
  {
   "cell_type": "code",
   "execution_count": 56,
   "metadata": {},
   "outputs": [
    {
     "name": "stdout",
     "output_type": "stream",
     "text": [
      "15\n"
     ]
    }
   ],
   "source": [
    "# 053\n",
    "# Description: Define a class named Rectangle which can be constructed by a length and width. The Rectangle class has\n",
    "#              a method which can compute the area.\n",
    "\n",
    "\n",
    "class Rectangle(object):\n",
    "    def __init__(self, length=0, width=0):\n",
    "        self.length = length\n",
    "        self.width = width\n",
    "\n",
    "    def area(self):\n",
    "        return self.length * self.width\n",
    "\n",
    "\n",
    "r = Rectangle(length=5, width=3)\n",
    "print(r.area())"
   ]
  },
  {
   "cell_type": "code",
   "execution_count": 58,
   "metadata": {},
   "outputs": [
    {
     "name": "stdout",
     "output_type": "stream",
     "text": [
      "4\n"
     ]
    }
   ],
   "source": [
    "# 054\n",
    "# Description: Define a class named Shape and its subclass Square. The Square class has an init function which takes\n",
    "#              a length as argument. Both classes have a area function which can print the area of the shape where\n",
    "#              Shape's area is 0 by default.\n",
    "\n",
    "\n",
    "class Shape(object):\n",
    "    def __init__(self):\n",
    "        pass\n",
    "\n",
    "    def area(self):\n",
    "        return 0\n",
    "\n",
    "\n",
    "class Square(Shape):\n",
    "    def __init__(self, l):\n",
    "        Shape.__init__(self)\n",
    "        self.l = l\n",
    "\n",
    "    def area(self):\n",
    "        return self.l**2\n",
    "\n",
    "\n",
    "s = Square(2)\n",
    "print(s.area())"
   ]
  },
  {
   "cell_type": "code",
   "execution_count": 59,
   "metadata": {},
   "outputs": [
    {
     "ename": "RuntimeError",
     "evalue": "something wrong",
     "output_type": "error",
     "traceback": [
      "\u001b[0;31m---------------------------------------------------------------------------\u001b[0m",
      "\u001b[0;31mRuntimeError\u001b[0m                              Traceback (most recent call last)",
      "\u001b[0;32m<ipython-input-59-a0dd42846117>\u001b[0m in \u001b[0;36m<module>\u001b[0;34m()\u001b[0m\n\u001b[1;32m      2\u001b[0m \u001b[0;31m# Description: Please raise a RuntimeError exception.\u001b[0m\u001b[0;34m\u001b[0m\u001b[0;34m\u001b[0m\u001b[0m\n\u001b[1;32m      3\u001b[0m \u001b[0;34m\u001b[0m\u001b[0m\n\u001b[0;32m----> 4\u001b[0;31m \u001b[0;32mraise\u001b[0m \u001b[0mRuntimeError\u001b[0m\u001b[0;34m(\u001b[0m\u001b[0;34m'something wrong'\u001b[0m\u001b[0;34m)\u001b[0m\u001b[0;34m\u001b[0m\u001b[0m\n\u001b[0m",
      "\u001b[0;31mRuntimeError\u001b[0m: something wrong"
     ]
    }
   ],
   "source": [
    "# 055\n",
    "# Description: Please raise a RuntimeError exception.\n",
    "\n",
    "raise RuntimeError('something wrong')"
   ]
  },
  {
   "cell_type": "code",
   "execution_count": 62,
   "metadata": {},
   "outputs": [
    {
     "name": "stdout",
     "output_type": "stream",
     "text": [
      "division by 0\n",
      "done\n"
     ]
    }
   ],
   "source": [
    "# 056\n",
    "# Description: Write a function to compute 5/0 and use try/except to catch the exceptions.\n",
    "\n",
    "def throws():\n",
    "    return 5/0\n",
    "\n",
    "try:\n",
    "    throws()\n",
    "except ZeroDivisionError:\n",
    "    print ('division by 0')\n",
    "except Exception:\n",
    "    print ('something wrong')\n",
    "finally:\n",
    "    print ('done')\n"
   ]
  },
  {
   "cell_type": "code",
   "execution_count": 65,
   "metadata": {},
   "outputs": [
    {
     "name": "stdout",
     "output_type": "stream",
     "text": [
      "you are so Wrong\n"
     ]
    }
   ],
   "source": [
    "# 057\n",
    "# Description: Define a custom exception class which takes a string message as attribute.\n",
    "\n",
    "\n",
    "class myError(Exception):\n",
    "    '''my own exception class\n",
    "        Attributes:\n",
    "        msg -- explanation of the error\n",
    "    '''\n",
    "\n",
    "    def __init__(self, msg):\n",
    "        self.msg = msg\n",
    "\n",
    "\n",
    "error = myError('you are so Wrong')\n",
    "print(error)"
   ]
  },
  {
   "cell_type": "code",
   "execution_count": 4,
   "metadata": {},
   "outputs": [
    {
     "name": "stdout",
     "output_type": "stream",
     "text": [
      "pls input your email: david@gmail.com\n",
      "david\n",
      "gmail\n",
      "com\n"
     ]
    }
   ],
   "source": [
    "# 058\n",
    "# Description: Assuming that we have some email addresses in the \"username@companyname.com\" format, please write\n",
    "#              program to print the user name of a given email address. Both user names and company names are composed\n",
    "#              of letters only.\n",
    "\n",
    "import re\n",
    "email = input('pls input your email: ')\n",
    "pattern = '(\\w+)@(\\w+)\\.(\\w+)'\n",
    "res = re.match(pattern, email)\n",
    "print(res.group(1))\n",
    "print(res.group(2))\n",
    "print(res.group(3))"
   ]
  },
  {
   "cell_type": "code",
   "execution_count": 5,
   "metadata": {},
   "outputs": [
    {
     "name": "stdout",
     "output_type": "stream",
     "text": [
      "email: jkchang@gmail.com\n",
      "gmail\n"
     ]
    }
   ],
   "source": [
    "# 059\n",
    "# Description: Assuming that we have some email addresses in the \"username@companyname.com\" format, please write\n",
    "#              program to print the company name of a given email address. Both user names and company names are\n",
    "#              composed of letters only\n",
    "\n",
    "email = input('email: ')\n",
    "pattern = '(\\w+)@(\\w+)\\.(\\w+)'\n",
    "res = re.match(pattern,email,flags=re.I)\n",
    "print(res.group(2))"
   ]
  },
  {
   "cell_type": "code",
   "execution_count": 7,
   "metadata": {},
   "outputs": [
    {
     "name": "stdout",
     "output_type": "stream",
     "text": [
      "A 2 3 D D 2 3C\n",
      "[2, 3, 2]\n"
     ]
    }
   ],
   "source": [
    "# 060\n",
    "# Description: Write a program which accepts a sequence of words separated by whitespace as input to print the words\n",
    "#              composed of digits only.\n",
    "\n",
    "s = [int(x) for x in input().split() if x.isdigit()]\n",
    "print(s)"
   ]
  },
  {
   "cell_type": "code",
   "execution_count": 12,
   "metadata": {},
   "outputs": [
    {
     "name": "stdout",
     "output_type": "stream",
     "text": [
      "hello world\n"
     ]
    }
   ],
   "source": [
    "# 061\n",
    "# Description: Print a unicode string \"hello world\".\n",
    "\n",
    "u = u'hello world'\n",
    "print(u)"
   ]
  },
  {
   "cell_type": "code",
   "execution_count": 17,
   "metadata": {},
   "outputs": [
    {
     "name": "stdout",
     "output_type": "stream",
     "text": [
      "b'david'\n",
      "b'david'\n"
     ]
    }
   ],
   "source": [
    "# 062\n",
    "# Description: Write a program to read an ASCII string and to convert it to a unicode string encoded by utf-8\n",
    "s = 'david'\n",
    "print(s.encode('utf-8'))\n",
    "print(s.encode('ascii'))"
   ]
  },
  {
   "cell_type": "code",
   "execution_count": null,
   "metadata": {},
   "outputs": [],
   "source": [
    "# 063\n",
    "# Description: Write a special comment to indicate a Python source code file is in unicode.\n",
    "\n",
    "# -*- coding: utf-8 -*-"
   ]
  },
  {
   "cell_type": "code",
   "execution_count": 18,
   "metadata": {},
   "outputs": [
    {
     "name": "stdout",
     "output_type": "stream",
     "text": [
      "3.5500000000000003\n"
     ]
    }
   ],
   "source": [
    "# 064\n",
    "# Description: Write a program to compute 1/2+2/3+3/4+...+n/n+1 with a given n input by console (n>0).\n",
    "\n",
    "\n",
    "def func(num):\n",
    "    res = 0\n",
    "    for i in range(1, num + 1):\n",
    "        res += i / (i + 1)\n",
    "    return res\n",
    "\n",
    "\n",
    "print(func(5))"
   ]
  },
  {
   "cell_type": "code",
   "execution_count": 21,
   "metadata": {},
   "outputs": [
    {
     "name": "stdout",
     "output_type": "stream",
     "text": [
      "301\n"
     ]
    }
   ],
   "source": [
    "# 065\n",
    "# Description: Write a program to compute:\n",
    "# f(n)=f(n-1)+100 when n>0\n",
    "# and f(0)=1\n",
    "# with a given n input by console (n>0).\n",
    "\n",
    "\n",
    "def func(num):\n",
    "    if num < 0:\n",
    "        pass\n",
    "    elif num == 0:\n",
    "        return 1\n",
    "    return func(num - 1) + 100\n",
    "\n",
    "\n",
    "print(func(3))"
   ]
  },
  {
   "cell_type": "code",
   "execution_count": 23,
   "metadata": {},
   "outputs": [
    {
     "name": "stdout",
     "output_type": "stream",
     "text": [
      "0\n",
      "1\n",
      "1\n",
      "55\n"
     ]
    }
   ],
   "source": [
    "# 066\n",
    "# Description: The Fibonacci Sequence is computed based on the following formula:\n",
    "# f(n)=0 if n=0\n",
    "# f(n)=1 if n=1\n",
    "# f(n)=f(n-1)+f(n-2) if n>1\n",
    "#\n",
    "# Please write a program to compute the value of f(n) with a given n input by console.\n",
    "\n",
    "\n",
    "def fibonacci(num):\n",
    "    if num == 0:\n",
    "        return 0\n",
    "    if num == 1:\n",
    "        return 1\n",
    "    return fibonacci(num - 1) + fibonacci(num - 2)\n",
    "\n",
    "\n",
    "print(fibonacci(0))\n",
    "print(fibonacci(1))\n",
    "print(fibonacci(2))\n",
    "print(fibonacci(10))"
   ]
  },
  {
   "cell_type": "code",
   "execution_count": 28,
   "metadata": {},
   "outputs": [
    {
     "name": "stdout",
     "output_type": "stream",
     "text": [
      "pls give me a number: 5\n",
      "0,1,1,2,3,5\n"
     ]
    }
   ],
   "source": [
    "# 067\n",
    "# Description: The Fibonacci Sequence is computed based on the following formula:\n",
    "# f(n)=0 if n=0\n",
    "# f(n)=1 if n=1\n",
    "# f(n)=f(n-1)+f(n-2) if n>1\n",
    "#\n",
    "# Please write a program using list comprehension to print the Fibonacci Sequence in comma separated form with a given\n",
    "# n input by console.\n",
    "\n",
    "\n",
    "def fibonacci(num):\n",
    "    if num == 0:\n",
    "        return 0\n",
    "    if num == 1:\n",
    "        return 1\n",
    "    return fibonacci(num - 1) + fibonacci(num - 2)\n",
    "\n",
    "\n",
    "num = int(input('pls give me a number: '))\n",
    "print(','.join([str(fibonacci(x)) for x in range(0, num + 1)]))"
   ]
  },
  {
   "cell_type": "code",
   "execution_count": 33,
   "metadata": {},
   "outputs": [
    {
     "name": "stdout",
     "output_type": "stream",
     "text": [
      "10\n",
      "0,2,4,6,8,10\n"
     ]
    }
   ],
   "source": [
    "# 068\n",
    "# Description: Please write a program using generator to print the even numbers between 0 and n in comma separated\n",
    "#              form while n is input by console.\n",
    "\n",
    "print(','.join([str(x) for x in range(0, int(input()) + 1) if x % 2 == 0]))"
   ]
  },
  {
   "cell_type": "code",
   "execution_count": 34,
   "metadata": {},
   "outputs": [
    {
     "name": "stdout",
     "output_type": "stream",
     "text": [
      "[0, 35, 70]\n"
     ]
    }
   ],
   "source": [
    "# 069\n",
    "# Description: Please write a program using generator to print the numbers which can be divisible by 5 and 7 between 0\n",
    "#              and n in comma separated form while n is input by console.\n",
    "\n",
    "\n",
    "def gen(num):\n",
    "    for i in range(num + 1):\n",
    "        if i % 5 == 0 and i % 7 == 0:\n",
    "            yield i\n",
    "\n",
    "\n",
    "print(list(gen(100)))"
   ]
  },
  {
   "cell_type": "code",
   "execution_count": 35,
   "metadata": {},
   "outputs": [],
   "source": [
    "# 070\n",
    "# Description: Please write assert statements to verify that every number in the list [2,4,6,8] is even.\n",
    "li = [2, 4, 6, 8]\n",
    "for i in li:\n",
    "    assert i % 2 == 0"
   ]
  },
  {
   "cell_type": "code",
   "execution_count": 37,
   "metadata": {},
   "outputs": [
    {
     "name": "stdout",
     "output_type": "stream",
     "text": [
      "1+3*4\n",
      "13\n"
     ]
    }
   ],
   "source": [
    "# 071\n",
    "# Description: Please write a program which accepts basic mathematics expression from console and print the evaluation\n",
    "#              result.\n",
    "\n",
    "print(eval(input()))"
   ]
  },
  {
   "cell_type": "code",
   "execution_count": 45,
   "metadata": {},
   "outputs": [
    {
     "name": "stdout",
     "output_type": "stream",
     "text": [
      "3\n",
      "-1\n"
     ]
    }
   ],
   "source": [
    "# 072\n",
    "# Description: Please write a binary search function which searches an item in a sorted\n",
    "#              list. The function should return the index of element to be searched in the list.\n",
    "\n",
    "\n",
    "def biSearch(num, li):\n",
    "    start, end = 0, len(li) - 1\n",
    "    while start <= end:\n",
    "        mid = (start + end) // 2\n",
    "        if li[mid] == num:\n",
    "            return mid\n",
    "        elif num > li[mid]:\n",
    "            start = mid + 1\n",
    "        elif num < li[mid]:\n",
    "            end = mid - 1\n",
    "    return -1\n",
    "\n",
    "\n",
    "print(biSearch(4, [1, 2, 3, 4, 5]))\n",
    "print(biSearch(6, [1, 2, 3, 4, 5]))"
   ]
  },
  {
   "cell_type": "code",
   "execution_count": 48,
   "metadata": {},
   "outputs": [
    {
     "name": "stdout",
     "output_type": "stream",
     "text": [
      "58.752\n"
     ]
    }
   ],
   "source": [
    "# 073\n",
    "# Description: Please generate a random float where the value is between 10 and 100 using Python math module.\n",
    "\n",
    "import random\n",
    "\n",
    "f = random.uniform(10,100)\n",
    "print('%.3f'%f)"
   ]
  },
  {
   "cell_type": "code",
   "execution_count": 49,
   "metadata": {},
   "outputs": [
    {
     "data": {
      "text/plain": [
       "80.1221330405896"
      ]
     },
     "execution_count": 49,
     "metadata": {},
     "output_type": "execute_result"
    }
   ],
   "source": [
    "# 074\n",
    "# Description: Please generate a random float where the value is between 5 and 95 using Python math module.\n",
    "\n",
    "import random\n",
    "random.uniform(5,95)"
   ]
  },
  {
   "cell_type": "code",
   "execution_count": 52,
   "metadata": {},
   "outputs": [
    {
     "data": {
      "text/plain": [
       "4"
      ]
     },
     "execution_count": 52,
     "metadata": {},
     "output_type": "execute_result"
    }
   ],
   "source": [
    "# 075\n",
    "# Description: Please write a program to output a random even number between 0 and 10 inclusive using random module\n",
    "#              and list comprehension.\n",
    "\n",
    "import random\n",
    "a = random.choice([x for x in range(11) if i%2==0])\n",
    "a"
   ]
  },
  {
   "cell_type": "code",
   "execution_count": 54,
   "metadata": {},
   "outputs": [
    {
     "name": "stdout",
     "output_type": "stream",
     "text": [
      "105\n"
     ]
    }
   ],
   "source": [
    "# 076\n",
    "# Description: Please write a program to output a random number, which is divisible by 5 and 7, between 0 and 200\n",
    "#              inclusive using random module and list comprehension.\n",
    "\n",
    "import random\n",
    "res = random.choice([x for x in range(100, 201) if x % 5 == 0 and x % 7 == 0])\n",
    "print(res)"
   ]
  },
  {
   "cell_type": "code",
   "execution_count": 55,
   "metadata": {},
   "outputs": [
    {
     "name": "stdout",
     "output_type": "stream",
     "text": [
      "[114, 112, 148, 151, 138]\n"
     ]
    }
   ],
   "source": [
    "# 077\n",
    "# Description: Please write a program to generate a list with 5 random numbers between 100 and 200 inclusive.\n",
    "\n",
    "import random\n",
    "res = random.sample([x for x in range(100,201)],5)\n",
    "print(res)"
   ]
  },
  {
   "cell_type": "code",
   "execution_count": 56,
   "metadata": {},
   "outputs": [
    {
     "name": "stdout",
     "output_type": "stream",
     "text": [
      "[120, 124, 166, 200, 188]\n"
     ]
    }
   ],
   "source": [
    "# 078\n",
    "# Description: Please write a program to randomly generate a list with 5 even numbers between 100 and 200 inclusive.\n",
    "import random\n",
    "res = random.sample([x for x in range(100, 201) if x % 2 == 0], 5)\n",
    "print(res)"
   ]
  },
  {
   "cell_type": "code",
   "execution_count": 57,
   "metadata": {},
   "outputs": [
    {
     "name": "stdout",
     "output_type": "stream",
     "text": [
      "[560, 350, 525, 945, 805]\n"
     ]
    }
   ],
   "source": [
    "# 079\n",
    "# Description: Please write a program to randomly generate a list with 5 numbers, which are divisible by 5 and 7 ,\n",
    "#              between 1 and 1000 inclusive.\n",
    "\n",
    "import random\n",
    "res = random.sample([x for x in range(1,1001) if x%5==0 and x%7==0],5)\n",
    "print(res)"
   ]
  },
  {
   "cell_type": "code",
   "execution_count": 58,
   "metadata": {},
   "outputs": [
    {
     "name": "stdout",
     "output_type": "stream",
     "text": [
      "14\n"
     ]
    }
   ],
   "source": [
    "# 080\n",
    "# Description: Please write a program to randomly print a integer number between 7 and 15 inclusive.\n",
    "import random\n",
    "print(random.randint(7, 15))"
   ]
  },
  {
   "cell_type": "code",
   "execution_count": 63,
   "metadata": {},
   "outputs": [
    {
     "name": "stdout",
     "output_type": "stream",
     "text": [
      "b'x\\x9c\\xcbH\\xcd\\xc9\\xc9W(\\xcf/\\xcaIQ\\xcc \\x82\\r\\x00\\xbd[\\x11\\xf5'\n",
      "b'hello world!hello world!hello world!hello world!'\n"
     ]
    }
   ],
   "source": [
    "# 081\n",
    "# Description: Please write a program to compress and decompress the string \"hello world!hello world!hello\n",
    "#              world!hello world!\".\n",
    "\n",
    "import zlib\n",
    "\n",
    "s = b'hello world!hello world!hello world!hello world!'\n",
    "t = zlib.compress(s)\n",
    "print (t)\n",
    "print (zlib.decompress(t))"
   ]
  },
  {
   "cell_type": "code",
   "execution_count": 66,
   "metadata": {},
   "outputs": [
    {
     "name": "stdout",
     "output_type": "stream",
     "text": [
      "2.203236324014142\n"
     ]
    }
   ],
   "source": [
    "# 082\n",
    "# Description: Please write a program to print the running time of execution of \"1+1\" for 100 times.\n",
    "\n",
    "from timeit import Timer\n",
    "\n",
    "t = Timer('for i in range(100): 1+1')\n",
    "print(t.timeit())"
   ]
  },
  {
   "cell_type": "code",
   "execution_count": 71,
   "metadata": {},
   "outputs": [
    {
     "name": "stdout",
     "output_type": "stream",
     "text": [
      "[7, 3, 6, 8]\n"
     ]
    }
   ],
   "source": [
    "# 083\n",
    "# Description: Please write a program to shuffle and print the list [3,6,7,8].\n",
    "\n",
    "from random import shuffle\n",
    "li = [3, 6, 7, 8]\n",
    "shuffle(li)\n",
    "print(li)"
   ]
  },
  {
   "cell_type": "code",
   "execution_count": 83,
   "metadata": {},
   "outputs": [
    {
     "ename": "SyntaxError",
     "evalue": "unexpected character after line continuation character (<ipython-input-83-49e504210760>, line 7)",
     "output_type": "error",
     "traceback": [
      "\u001b[0;36m  File \u001b[0;32m\"<ipython-input-83-49e504210760>\"\u001b[0;36m, line \u001b[0;32m7\u001b[0m\n\u001b[0;31m    subjects = [\\'I\\', \\'You\\']\u001b[0m\n\u001b[0m                               ^\u001b[0m\n\u001b[0;31mSyntaxError\u001b[0m\u001b[0;31m:\u001b[0m unexpected character after line continuation character\n"
     ]
    }
   ],
   "source": [
    "# 084\n",
    "# Description: Please write a program to generate all sentences where subject is in [\"I\", \"You\"] and verb is in [\"Play\"\n",
    "#              , \"Love\"] and the object is in [\"Hockey\",\"Football\"].\n",
    "\n",
    "import itertools\n",
    "\n",
    "subjects = ['I', 'You']\n",
    "verbs = ['Play', 'Love']\n",
    "objects = ['Hockey', 'Football']\n",
    "\n",
    "print('---------------------------')\n",
    "a = [subjects,verbs,objects]\n",
    "print(list(itertools.product(*a)))\n",
    "\n",
    "print('--------equal to-----------')\n",
    "print(list(itertools.product(subjects,verbs,objects)))\n"
   ]
  },
  {
   "cell_type": "code",
   "execution_count": 82,
   "metadata": {},
   "outputs": [
    {
     "name": "stdout",
     "output_type": "stream",
     "text": [
      "[5, 77, 45]\n"
     ]
    }
   ],
   "source": [
    "# 085\n",
    "# Description: Please write a program to print the list after removing delete even numbers in [5,6,77,45,22,12,24].\n",
    "li = [5, 6, 77, 45, 22, 12, 24]\n",
    "res = [x for x in li if x % 2 != 0]\n",
    "print(res)"
   ]
  },
  {
   "cell_type": "code",
   "execution_count": 84,
   "metadata": {},
   "outputs": [
    {
     "name": "stdout",
     "output_type": "stream",
     "text": [
      "[12, 24, 88]\n"
     ]
    }
   ],
   "source": [
    "# 086\n",
    "# Description: By using list comprehension, please write a program to print the list after removing delete numbers\n",
    "#              which are divisible by 5 and 7 in [12,24,35,70,88,120,155].\n",
    "li = [12, 24, 35, 70, 88, 120, 155]\n",
    "res = [x for x in li if (x % 5 != 0 and x % 7 != 0)]\n",
    "print(res)"
   ]
  },
  {
   "cell_type": "code",
   "execution_count": 86,
   "metadata": {},
   "outputs": [
    {
     "name": "stdout",
     "output_type": "stream",
     "text": [
      "[24, 70, 120]\n"
     ]
    }
   ],
   "source": [
    "# 087\n",
    "# Description: By using list comprehension, please write a program to print the list after removing the\n",
    "#              0th, 2nd, 4th,6th numbers in [12,24,35,70,88,120,155].\n",
    "\n",
    "li = [12, 24, 35, 70, 88, 120, 155]\n",
    "res = [x for (i, x) in enumerate(li) if i % 2 != 0]\n",
    "print(res)"
   ]
  },
  {
   "cell_type": "code",
   "execution_count": 87,
   "metadata": {},
   "outputs": [
    {
     "name": "stdout",
     "output_type": "stream",
     "text": [
      "[[[0, 0, 0, 0, 0, 0, 0, 0], [0, 0, 0, 0, 0, 0, 0, 0], [0, 0, 0, 0, 0, 0, 0, 0], [0, 0, 0, 0, 0, 0, 0, 0], [0, 0, 0, 0, 0, 0, 0, 0]], [[0, 0, 0, 0, 0, 0, 0, 0], [0, 0, 0, 0, 0, 0, 0, 0], [0, 0, 0, 0, 0, 0, 0, 0], [0, 0, 0, 0, 0, 0, 0, 0], [0, 0, 0, 0, 0, 0, 0, 0]], [[0, 0, 0, 0, 0, 0, 0, 0], [0, 0, 0, 0, 0, 0, 0, 0], [0, 0, 0, 0, 0, 0, 0, 0], [0, 0, 0, 0, 0, 0, 0, 0], [0, 0, 0, 0, 0, 0, 0, 0]]]\n"
     ]
    }
   ],
   "source": [
    "# 088\n",
    "# Description: By using list comprehension, please write a program generate a 3*5*8 3D array whose each element is 0.\n",
    "\n",
    "res = [[[0 for col in range(8)] for co in range(5)] for c in range(3)]\n",
    "print(res)"
   ]
  },
  {
   "cell_type": "code",
   "execution_count": 88,
   "metadata": {},
   "outputs": [
    {
     "name": "stdout",
     "output_type": "stream",
     "text": [
      "[24, 35, 70, 155]\n"
     ]
    }
   ],
   "source": [
    "# 089\n",
    "# Description: By using list comprehension, please write a program to print the list after removing the 0th,4th,5th\n",
    "#              numbers in [12,24,35,70,88,120,155].\n",
    "\n",
    "li = [12, 24, 35, 70, 88, 120, 155]\n",
    "res = [x for (i, x) in enumerate(li) if i not in (0, 4, 5)]\n",
    "print(res)"
   ]
  },
  {
   "cell_type": "code",
   "execution_count": 96,
   "metadata": {},
   "outputs": [
    {
     "name": "stdout",
     "output_type": "stream",
     "text": [
      "[12, 35, 24, 88, 120, 155]\n",
      "[12, 35, 88, 120, 155]\n"
     ]
    }
   ],
   "source": [
    "# 090\n",
    "# Description: By using list comprehension, please write a program to print the list after removing the value 24 in\n",
    "#              [12,24,35,24,88,120,155].\n",
    "\n",
    "# only remove the first one\n",
    "li= [12,24,35,24,88,120,155]\n",
    "li.remove(24)\n",
    "print(li)\n",
    "# remove all\n",
    "print([x for x in li if x!=24])"
   ]
  },
  {
   "cell_type": "code",
   "execution_count": 97,
   "metadata": {},
   "outputs": [
    {
     "name": "stdout",
     "output_type": "stream",
     "text": [
      "[35]\n"
     ]
    }
   ],
   "source": [
    "# 091\n",
    "# Description: With two given lists [1,3,6,78,35,55] and [12,24,35,24,88,120,155], write a program to make a list\n",
    "#              whose elements are intersection of the above given lists.\n",
    "\n",
    "l1 = [1,3,6,78,35,55] \n",
    "l2 = [12,24,35,24,88,120,155]\n",
    "\n",
    "res = [x for x in l1 if x in l2]\n",
    "print(res)"
   ]
  },
  {
   "cell_type": "code",
   "execution_count": 101,
   "metadata": {},
   "outputs": [
    {
     "name": "stdout",
     "output_type": "stream",
     "text": [
      "[12, 24, 35, 88, 120, 155]\n",
      "[155, 120, 88, 35, 24, 12]\n"
     ]
    }
   ],
   "source": [
    "# 092\n",
    "# Description: With a given list [12,24,35,24,88,120,155,88,120,155], write a program to print this list after removing\n",
    "#              all duplicate values with original order reserved.[12,24,35,24,88,120,155,88,120,155]\n",
    "\n",
    "li = [12, 24, 35, 24, 88, 120, 155, 88, 120, 155]\n",
    "# can't using set, it will change the order of the list\n",
    "# li = list(set(li))\n",
    "res = [li[0]]\n",
    "for x in li:\n",
    "    if x not in res:\n",
    "        res.append(x)\n",
    "print(res)\n",
    "print(res[::-1])"
   ]
  },
  {
   "cell_type": "code",
   "execution_count": 102,
   "metadata": {},
   "outputs": [
    {
     "name": "stdout",
     "output_type": "stream",
     "text": [
      "Male\n",
      "Female\n"
     ]
    }
   ],
   "source": [
    "# 093\n",
    "# Description: Define a class Person and its two child classes: Male and Female. All classes have a method \"getGender\"\n",
    "#              which can print \"Male\" for Male class and \"Female\" for Female class.\n",
    "\n",
    "\n",
    "class Person(object):\n",
    "    def getGender(self):\n",
    "        print('unknown')\n",
    "\n",
    "\n",
    "class Male(Person):\n",
    "    def getGender(self):\n",
    "        print('Male')\n",
    "\n",
    "\n",
    "class Female(Person):\n",
    "    def getGender(self):\n",
    "        print('Female')\n",
    "        \n",
    "m = Male()\n",
    "f = Female()\n",
    "m.getGender()\n",
    "f.getGender()"
   ]
  },
  {
   "cell_type": "code",
   "execution_count": 110,
   "metadata": {},
   "outputs": [
    {
     "name": "stdout",
     "output_type": "stream",
     "text": [
      "information retrieval\n",
      "i,3\n",
      "n,2\n",
      "f,1\n",
      "o,2\n",
      "r,3\n",
      "m,1\n",
      "a,2\n",
      "t,2\n",
      "e,2\n",
      "v,1\n",
      "l,1\n"
     ]
    }
   ],
   "source": [
    "# 094\n",
    "# Description: Please write a program which count and print the numbers of each character in a string input by console.\n",
    "\n",
    "s = \"\".join(input().split()) #remove all the whitespace\n",
    "dict ={}\n",
    "for ch in s:\n",
    "    dict[ch] = dict.get(ch,0) +1\n",
    "\n",
    "print('\\n'.join(['%s,%s' % (k, v) for k, v in dict.items()]))\n"
   ]
  },
  {
   "cell_type": "code",
   "execution_count": 112,
   "metadata": {},
   "outputs": [
    {
     "name": "stdout",
     "output_type": "stream",
     "text": [
      "information\n",
      "noitamrofni\n"
     ]
    }
   ],
   "source": [
    "# 095\n",
    "# Description: Please write a program which accepts a string from console and print it in reverse order.\n",
    "\n",
    "s = input()\n",
    "res = s[::-1]\n",
    "print(res)"
   ]
  },
  {
   "cell_type": "code",
   "execution_count": 113,
   "metadata": {},
   "outputs": [
    {
     "name": "stdout",
     "output_type": "stream",
     "text": [
      "abcdefg\n",
      "['a', 'c', 'e', 'g']\n"
     ]
    }
   ],
   "source": [
    "# 096\n",
    "# Description: Please write a program which accepts a string from console and print the characters that have even indexes.\n",
    "\n",
    "s = input()\n",
    "res = [x for (i, x) in enumerate(s) if i % 2 == 0]\n",
    "print(res)"
   ]
  },
  {
   "cell_type": "code",
   "execution_count": 115,
   "metadata": {},
   "outputs": [
    {
     "name": "stdout",
     "output_type": "stream",
     "text": [
      "[(1, 2, 3), (1, 3, 2), (2, 1, 3), (2, 3, 1), (3, 1, 2), (3, 2, 1)]\n"
     ]
    }
   ],
   "source": [
    "# 097\n",
    "# Description: Please write a program which prints all permutations of [1,2,3]\n",
    "import itertools\n",
    "\n",
    "print(list(itertools.permutations([1, 2, 3])))"
   ]
  },
  {
   "cell_type": "code",
   "execution_count": 117,
   "metadata": {},
   "outputs": [
    {
     "name": "stdout",
     "output_type": "stream",
     "text": [
      "(23, 12)\n"
     ]
    }
   ],
   "source": [
    "# 098\n",
    "# Description: Write a program to solve a classic ancient Chinese puzzle:\n",
    "#              We count 35 heads and 94 legs among the chickens and rabbits in a farm. How many rabbits and how many\n",
    "#              chickens do we have?\n",
    "\n",
    "\n",
    "def solve(numheads, numlegs):\n",
    "    for i in range(numheads + 1):\n",
    "        j = numheads - i\n",
    "        if 2 * i + 4 * j == numlegs:\n",
    "            return i, j\n",
    "    return 'No solutions!'\n",
    "\n",
    "\n",
    "numheads = 35\n",
    "numlegs = 94\n",
    "solutions = solve(numheads, numlegs)\n",
    "print(solutions)"
   ]
  },
  {
   "cell_type": "code",
   "execution_count": 118,
   "metadata": {},
   "outputs": [
    {
     "name": "stdout",
     "output_type": "stream",
     "text": [
      "{1: 1}\n",
      "{3: 3}\n",
      "{2: 2}\n"
     ]
    }
   ],
   "source": [
    "# 099\n",
    "# using list to make a ring\n",
    "class Ring(object):\n",
    "    def __init__(self, l):\n",
    "        if not len(l):\n",
    "            raise \"ring must have at least one element\"\n",
    "        self._data = l\n",
    "\n",
    "    def __repr__(self):\n",
    "        return repr(self._data)\n",
    "\n",
    "    def __len__(self):\n",
    "        return len(self._data)\n",
    "\n",
    "    def __getitem__(self, i):\n",
    "        return self._data[i]\n",
    "\n",
    "    def turn(self):\n",
    "        last = self._data.pop(-1)\n",
    "        self._data.insert(0, last)\n",
    "\n",
    "    def first(self):\n",
    "        return self._data[0]\n",
    "\n",
    "    def last(self):\n",
    "        return self._data[-1]\n",
    "\n",
    "\n",
    "l = [{1: 1}, {2: 2}, {3: 3}]\n",
    "r = Ring(l)\n",
    "\n",
    "print(r.first())\n",
    "print(r.last())\n",
    "print(r.__getitem__(len(r) - 2))"
   ]
  },
  {
   "cell_type": "code",
   "execution_count": 122,
   "metadata": {},
   "outputs": [
    {
     "name": "stdout",
     "output_type": "stream",
     "text": [
      "{'Hello': 1, 'there': 2, 'this': 2, 'is': 2, 'a': 2, 'test': 2, 'hello': 1, 'was': 1, 'but': 1, 'now': 1, 'it': 1, 'not': 1}\n"
     ]
    }
   ],
   "source": [
    "# 100\n",
    "# Description: term counter,remove punctuation\n",
    "# import operator\n",
    "# import string\n",
    "\n",
    "\n",
    "import operator\n",
    "import re\n",
    "\n",
    "res = {}\n",
    "line = \"Hello there this is a test. hello there this was a test, but now it is not.\"\n",
    "line = re.sub(r'[^\\w\\s]', '', line)\n",
    "\n",
    "for word in line.split(' '):\n",
    "    res[word] = res.get(word, 0) + 1  #dict.get(key[, default])\n",
    "\n",
    "print(res)\n"
   ]
  }
 ],
 "metadata": {
  "kernelspec": {
   "display_name": "Python 3",
   "language": "python",
   "name": "python3"
  },
  "language_info": {
   "codemirror_mode": {
    "name": "ipython",
    "version": 3
   },
   "file_extension": ".py",
   "mimetype": "text/x-python",
   "name": "python",
   "nbconvert_exporter": "python",
   "pygments_lexer": "ipython3",
   "version": "3.6.3"
  }
 },
 "nbformat": 4,
 "nbformat_minor": 2
}
