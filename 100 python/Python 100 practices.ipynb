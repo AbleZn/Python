{
 "cells": [
  {
   "cell_type": "code",
   "execution_count": 1,
   "metadata": {},
   "outputs": [
    {
     "name": "stdout",
     "output_type": "stream",
     "text": [
      "203,217,224,231,238,252,259,266,273,287,294,301,308\n"
     ]
    }
   ],
   "source": [
    "# -*- coding: utf-8 -*-\n",
    "# 001\n",
    "# Description: Write a program which will find all such numbers which are divisible by 7 but are not a multiple of 5,\n",
    "#              between 200 and 320 (both included).The numbers obtained should be printed in a comma-separated\n",
    "#              sequence on a single line.\n",
    "\n",
    "res = []\n",
    "for num in range(200, 321):\n",
    "    if num % 7 == 0 and num % 5 != 0:\n",
    "        res.append(str(num))\n",
    "print(','.join(res))"
   ]
  },
  {
   "cell_type": "code",
   "execution_count": 2,
   "metadata": {},
   "outputs": [
    {
     "name": "stdout",
     "output_type": "stream",
     "text": [
      "pls input a number: 5\n",
      "120\n"
     ]
    }
   ],
   "source": [
    "# 002\n",
    "# Description: Write a program which can compute the factorial of a given numbers.\n",
    "#              The results should be printed in a comma-separated sequence on a single line.\n",
    "#              Suppose the following input is supplied to the program:\n",
    "\n",
    "\n",
    "def factorial(num):\n",
    "    if num == 0 or num == 1:\n",
    "        return 1\n",
    "    return factorial(num - 1) * num\n",
    "\n",
    "\n",
    "num = int(input('pls input a number: '))\n",
    "print(factorial(num))"
   ]
  },
  {
   "cell_type": "code",
   "execution_count": 3,
   "metadata": {},
   "outputs": [
    {
     "name": "stdout",
     "output_type": "stream",
     "text": [
      "pls input a number: 5\n",
      "{1: 1, 2: 4, 3: 9, 4: 16, 5: 25}\n"
     ]
    }
   ],
   "source": [
    "# 003\n",
    "# Description: With a given integral number n, write a program to generate a dictionary that contains (i, i*i) such\n",
    "#              that is an integral number between 1 and n (both included). and then the program should print the\n",
    "#              dictionary.\n",
    "\n",
    "num = int(input('pls input a number: '))\n",
    "dict = {}\n",
    "for i in range(1, num + 1):\n",
    "    dict[i] = i**2\n",
    "print(dict)"
   ]
  },
  {
   "cell_type": "code",
   "execution_count": 4,
   "metadata": {},
   "outputs": [
    {
     "name": "stdout",
     "output_type": "stream",
     "text": [
      "['12', '23', '45', '68', '21', '43', '87']\n",
      "('12', '23', '45', '68', '21', '43', '87')\n"
     ]
    }
   ],
   "source": [
    "# 004\n",
    "# Description: Write a program which accepts a sequence of comma-separated numbers from console and generate a list\n",
    "#              and a tuple which contains every number.\n",
    "\n",
    "seq = '12,23,45,68,21,43,87'\n",
    "l = seq.split(',')\n",
    "t = tuple(l)\n",
    "print(l)\n",
    "print(t)"
   ]
  },
  {
   "cell_type": "code",
   "execution_count": 5,
   "metadata": {},
   "outputs": [
    {
     "name": "stdout",
     "output_type": "stream",
     "text": [
      "pls input something: information retrieval\n",
      "INFORMATION RETRIEVAL\n"
     ]
    }
   ],
   "source": [
    "# 005\n",
    "# # Description: Define a class which has at least two methods:\n",
    "#                getString: to get a string from console input # printString: to print the string in upper case.\n",
    "#                Also please include simple test function to test the class methods.\n",
    "\n",
    "\n",
    "class UpperCase(object):\n",
    "    def __init__(self):\n",
    "        self.s = ''\n",
    "\n",
    "    def getString(self):\n",
    "        self.s = input('pls input something: ')\n",
    "\n",
    "    def upper(self):\n",
    "        return self.s.upper()\n",
    "\n",
    "\n",
    "u = UpperCase()\n",
    "u.getString()\n",
    "print(u.upper())"
   ]
  },
  {
   "cell_type": "code",
   "execution_count": 6,
   "metadata": {},
   "outputs": [
    {
     "name": "stdout",
     "output_type": "stream",
     "text": [
      "pls input your comma-separated nums:3,4,52,3\n",
      "[3, 4, 13, 3]\n"
     ]
    }
   ],
   "source": [
    "# 006\n",
    "# Description: Write a program that calculates and prints the value according to the given formula:\n",
    "#                       Q = Square root of [(2 * C * D)/H]\n",
    "#              Following are the fixed values of C and H: C is 50. H is 30.\n",
    "#              D is the variable whose values should be input to your program in a comma-separated sequence.\n",
    "\n",
    "import math\n",
    "\n",
    "\n",
    "def convert(D):\n",
    "    C = 50\n",
    "    H = 30\n",
    "    return int(round(math.sqrt(2 * C * float(D) / H)))\n",
    "\n",
    "\n",
    "items = [int(x) for x in input('pls input your comma-separated nums:').split(',')]\n",
    "res = []\n",
    "for num in items:\n",
    "    res.append(convert(num))\n",
    "print(res)"
   ]
  },
  {
   "cell_type": "code",
   "execution_count": 7,
   "metadata": {},
   "outputs": [
    {
     "name": "stdout",
     "output_type": "stream",
     "text": [
      "pls input X and Y: 2,3\n",
      "[[0, 0, 0], [0, 1, 2]]\n"
     ]
    }
   ],
   "source": [
    "# 007\n",
    "# Description: Write a program which takes 2 digits, X,Y as input and generates a 2-dimensional array. The element\n",
    "#              value in the i-th row and j-th column of the array should be i*j.\n",
    "#              Note: i=0,1.., X-1; j=0,1 !=Y-1.\n",
    "\n",
    "dimensions = [int(x) for x in input('pls input X and Y: ').split(',')]\n",
    "x = dimensions[0]\n",
    "y = dimensions[1]\n",
    "\n",
    "res = [[0 for col in range(y)] for row in range(x)]\n",
    "for row in range(x):\n",
    "    for col in range(y):\n",
    "        res[row][col] = row * col\n",
    "print(res)"
   ]
  },
  {
   "cell_type": "code",
   "execution_count": 8,
   "metadata": {},
   "outputs": [
    {
     "name": "stdout",
     "output_type": "stream",
     "text": [
      "pls input your comma-separated sequence: David,mike,intresting\n",
      "David,intresting,mike\n"
     ]
    }
   ],
   "source": [
    "# 008\n",
    "# Description: Write a program that accepts a comma separated sequence of words as input and prints the words in a\n",
    "#              comma-separated sequence after sorting them alphabetically.\n",
    "\n",
    "seq = input('pls input your comma-separated sequence: ').split(',')\n",
    "res = sorted(seq, key=lambda s: s.lower())\n",
    "print(','.join(res))"
   ]
  },
  {
   "cell_type": "code",
   "execution_count": 9,
   "metadata": {},
   "outputs": [
    {
     "name": "stdout",
     "output_type": "stream",
     "text": [
      "pls input something: Make,David,infor\n",
      "MAKE,DAVID,INFOR\n"
     ]
    }
   ],
   "source": [
    "# 009\n",
    "# Description: Write a program that accepts sequence of lines as input and prints the lines after making all\n",
    "#              characters in the sentence capitalized.\n",
    "\n",
    "line = [x.upper() for x in input('pls input something: ').split(' ')]\n",
    "print(' '.join(line))"
   ]
  },
  {
   "cell_type": "code",
   "execution_count": 10,
   "metadata": {},
   "outputs": [
    {
     "name": "stdout",
     "output_type": "stream",
     "text": [
      "pls input something: Can anyone recommend a mechanic in Cambridge who does welding repairs?\n",
      "a anyone Cambridge Can does in mechanic recommend repairs? welding who\n"
     ]
    }
   ],
   "source": [
    "# 010\n",
    "# Description: Write a program that accepts a sequence of whitespace separated words as input and prints the words\n",
    "#              after removing all duplicate words and sorting them alphanumerically.\n",
    "\n",
    "line = [x for x in input('pls input something: ').split(' ')]\n",
    "res = sorted(set(line), key=lambda x: x.lower())\n",
    "print(' '.join(res))"
   ]
  },
  {
   "cell_type": "code",
   "execution_count": 11,
   "metadata": {},
   "outputs": [
    {
     "name": "stdout",
     "output_type": "stream",
     "text": [
      "4 digit binary nnumbers: 1001,1111,1101,0011\n",
      "9\n",
      "15\n",
      "13\n",
      "3\n",
      "1111\n"
     ]
    }
   ],
   "source": [
    "# 011\n",
    "# Description: Write a program which accepts a sequence of comma separated 4 digit binary numbers as its input and\n",
    "#              then check whether they are divisible by 5 or not. The numbers that are divisible by 5 are to be\n",
    "#              printed in a comma separated sequence.\n",
    "\n",
    "li = [x for x in input('4 digit binary nnumbers: ').split(',')]\n",
    "res = []\n",
    "\n",
    "for x in li:\n",
    "    dec_x = int(x, 2)\n",
    "    print(dec_x)\n",
    "    if not dec_x % 5:\n",
    "        res.append(x)\n",
    "print (','.join(res))"
   ]
  },
  {
   "cell_type": "code",
   "execution_count": 12,
   "metadata": {},
   "outputs": [
    {
     "name": "stdout",
     "output_type": "stream",
     "text": [
      "200,202,204,206,208,220,222,224,226,228,240,242,244,246,248,260,262,264,266,268,280,282,284,286,288\n"
     ]
    }
   ],
   "source": [
    "# 012\n",
    "# Description: Write a program, which will find all such numbers between 100 and 300 (both included) such that each\n",
    "#              digit of the number is an even number. The numbers obtained should be printed in a comma-separated\n",
    "#              sequence on a single line.\n",
    "res = []\n",
    "for x in range(100, 301):\n",
    "    digit = [d for d in str(x)]\n",
    "    pa = False\n",
    "    for d in digit:\n",
    "        if int(d) % 2 !=0:\n",
    "            pa = True\n",
    "            break\n",
    "    if not pa:\n",
    "        res.append(str(x))    \n",
    "print(','.join(res))"
   ]
  },
  {
   "cell_type": "code",
   "execution_count": 20,
   "metadata": {},
   "outputs": [
    {
     "name": "stdout",
     "output_type": "stream",
     "text": [
      "please input sequence of text:akdjflkaj232lajdlkja\n",
      "{'DIGITS': 3, 'LETTERS': 17}\n"
     ]
    }
   ],
   "source": [
    "# 013\n",
    "# Description: Write a program that accepts a sentence and calculate the number of letters and digits.\n",
    "# s = raw_input('please input sequence of text:')\n",
    "# d = {'DIGITS': 0, 'LETTERS': 0}\n",
    "\n",
    "s = input('please input sequence of text:')\n",
    "di = {'DIGITS': 0, 'LETTERS': 0}\n",
    "\n",
    "for char in s:\n",
    "    if char.isdigit():\n",
    "        di['DIGITS'] += 1\n",
    "    elif char.isalpha():\n",
    "        di['LETTERS'] += 1\n",
    "    else:\n",
    "        pass\n",
    "print(di)"
   ]
  },
  {
   "cell_type": "code",
   "execution_count": 28,
   "metadata": {},
   "outputs": [
    {
     "name": "stdout",
     "output_type": "stream",
     "text": [
      "pls input sequence of text: DaividlkfjlkajDEOI\n",
      "{'LOWER': 13, 'UPPER': 5}\n"
     ]
    }
   ],
   "source": [
    "# 014\n",
    "# Description: Write a program that accepts a sentence and calculate the number of upper case letters and lower case\n",
    "#              letters.\n",
    "\n",
    "s = input('pls input sequence of text: ')\n",
    "d = {'LOWER': 0, 'UPPER': 0}\n",
    "\n",
    "for char in s:\n",
    "    if char.islower():\n",
    "        d['LOWER'] +=1\n",
    "    elif char.isupper():\n",
    "        d['UPPER'] +=1\n",
    "    else:\n",
    "        pass\n",
    "print(d)"
   ]
  },
  {
   "cell_type": "code",
   "execution_count": 33,
   "metadata": {},
   "outputs": [
    {
     "name": "stdout",
     "output_type": "stream",
     "text": [
      "pls input a num:5\n",
      "6170\n"
     ]
    }
   ],
   "source": [
    "# 015\n",
    "# Description: Write a program that computes the value of a+aa+aaa+aaaa with a given digit as the value of a.\n",
    "num = input('pls input a num:')\n",
    "a = int(num)\n",
    "aa = int(num * 2)\n",
    "aaa = int(num * 3)\n",
    "aaaa = int(num * 4)\n",
    "print(a + aa + aaa + aaaa)"
   ]
  },
  {
   "cell_type": "code",
   "execution_count": 36,
   "metadata": {},
   "outputs": [
    {
     "name": "stdout",
     "output_type": "stream",
     "text": [
      "pls input comma-seperated nums32,23,42,2,32,4,5\n",
      "['23', '5']\n"
     ]
    }
   ],
   "source": [
    "# 016\n",
    "# Description: Use a list comprehension to square each odd number in a list. The list is input by a sequence of\n",
    "#              comma-separated numbers.\n",
    "\n",
    "res = [\n",
    "    x for x in input('pls input comma-seperated nums').split(',') if int(x) % 2 != 0\n",
    "]\n",
    "print(res)"
   ]
  },
  {
   "cell_type": "code",
   "execution_count": 39,
   "metadata": {},
   "outputs": [
    {
     "name": "stdout",
     "output_type": "stream",
     "text": [
      "D:deposit and W:withdrawal \n",
      "D 2000\n",
      "D:deposit and W:withdrawal \n",
      "W 100\n",
      "D:deposit and W:withdrawal \n",
      "W 200\n",
      "D:deposit and W:withdrawal \n",
      "\n",
      "1700\n"
     ]
    }
   ],
   "source": [
    "# 017\n",
    "# Description: Write a program that computes the net amount of a bank account based a transaction log from console input.\n",
    "#              The transaction log format is shown as following:\n",
    "# D 100\n",
    "# W 200\n",
    "# D means deposit while W means withdrawal.\n",
    "\n",
    "res = 0\n",
    "\n",
    "while True:\n",
    "    s = input('D:deposit and W:withdrawal \\n')\n",
    "    if not s:\n",
    "        break\n",
    "\n",
    "    value = s.split(' ')\n",
    "    operation = value[0]\n",
    "    amount = value[1]\n",
    "\n",
    "    if operation == 'D':\n",
    "        res += int(amount)\n",
    "    elif operation == 'W':\n",
    "        res -= int(amount)\n",
    "    else:\n",
    "        pass\n",
    "\n",
    "print(res)"
   ]
  },
  {
   "cell_type": "code",
   "execution_count": 42,
   "metadata": {},
   "outputs": [
    {
     "name": "stdout",
     "output_type": "stream",
     "text": [
      "PassWord: Bypass1\n",
      "At least 1 character between [$#@]\n",
      "PassWord: Bypass1#\n",
      "Well done! Your password is:Bypass1#\n"
     ]
    }
   ],
   "source": [
    "# 018\n",
    "# Description: A website requires the users to input username and password to register. Write a program to check the\n",
    "#              validity of password input by users.\n",
    "#\n",
    "# Following are the criteria for checking the password:\n",
    "# 1. At least 1 letter between [a-z]\n",
    "# 2. At least 1 number between [0-9]\n",
    "# 1. At least 1 letter between [A-Z]\n",
    "# 3. At least 1 character from [$#@]\n",
    "# 4. Minimum length of transaction password: 6\n",
    "# 5. Maximum length of transaction password: 12\n",
    "# Your program should accept a sequence of comma separated passwords and will check them according to the above criteria.\n",
    "#     Passwords that match the criteria are to be printed, each separated by a comma.\n",
    "\n",
    "import re\n",
    "\n",
    "while True:\n",
    "    ps = input('PassWord: ')\n",
    "    if not ps:\n",
    "        break\n",
    "    if not re.search('[a-z]',ps):\n",
    "        print('At least 1 letter between [a-z]')\n",
    "        continue\n",
    "    if not re.search('[0-9]',ps):\n",
    "        print('At least 1 number between [0-9]')\n",
    "        continue\n",
    "    if not re.search('[A-Z]',ps):\n",
    "        print('At least 1 letter between [A-Z]')\n",
    "        continue\n",
    "    if not re.search('[$#@]',ps):\n",
    "        print('At least 1 character between [$#@]')\n",
    "        continue\n",
    "    if len(ps) < 6:\n",
    "        print('Minimum length of transaction password: 6')\n",
    "        continue\n",
    "    if len(ps) > 12:\n",
    "        print('Maximum length of transaction password: 12')\n",
    "        continue\n",
    "    else:\n",
    "        print('Well done! Your password is:' + ps)\n",
    "        break   "
   ]
  },
  {
   "cell_type": "code",
   "execution_count": null,
   "metadata": {},
   "outputs": [],
   "source": [
    "# 019\n",
    "# Description: You are required to write a program to sort the (name, age, height) tuples by ascending order where name\n",
    "#              is string, age and height are numbers. The tuples are input by console. The sort criteria is:\n",
    "# 1: Sort based on name;\n",
    "# 2: Then sort based on age;\n",
    "# 3: Then sort by score.\n",
    "# The priority is that name > age > score.\n",
    "\n"
   ]
  },
  {
   "cell_type": "code",
   "execution_count": null,
   "metadata": {},
   "outputs": [],
   "source": [
    "# 020"
   ]
  },
  {
   "cell_type": "code",
   "execution_count": null,
   "metadata": {},
   "outputs": [],
   "source": [
    "# 021"
   ]
  },
  {
   "cell_type": "code",
   "execution_count": null,
   "metadata": {},
   "outputs": [],
   "source": [
    "# 022"
   ]
  },
  {
   "cell_type": "code",
   "execution_count": null,
   "metadata": {},
   "outputs": [],
   "source": [
    "# 023"
   ]
  },
  {
   "cell_type": "code",
   "execution_count": null,
   "metadata": {},
   "outputs": [],
   "source": [
    "# 024"
   ]
  },
  {
   "cell_type": "code",
   "execution_count": null,
   "metadata": {},
   "outputs": [],
   "source": [
    "# 025"
   ]
  },
  {
   "cell_type": "code",
   "execution_count": null,
   "metadata": {},
   "outputs": [],
   "source": [
    "# 026"
   ]
  },
  {
   "cell_type": "code",
   "execution_count": null,
   "metadata": {},
   "outputs": [],
   "source": [
    "# 027"
   ]
  },
  {
   "cell_type": "code",
   "execution_count": null,
   "metadata": {},
   "outputs": [],
   "source": [
    "# 028"
   ]
  },
  {
   "cell_type": "code",
   "execution_count": null,
   "metadata": {},
   "outputs": [],
   "source": [
    "# 029"
   ]
  },
  {
   "cell_type": "code",
   "execution_count": null,
   "metadata": {},
   "outputs": [],
   "source": [
    "# 030"
   ]
  },
  {
   "cell_type": "code",
   "execution_count": null,
   "metadata": {},
   "outputs": [],
   "source": [
    "# 031"
   ]
  },
  {
   "cell_type": "code",
   "execution_count": null,
   "metadata": {},
   "outputs": [],
   "source": [
    "# 032"
   ]
  },
  {
   "cell_type": "code",
   "execution_count": null,
   "metadata": {},
   "outputs": [],
   "source": [
    "# 033"
   ]
  },
  {
   "cell_type": "code",
   "execution_count": null,
   "metadata": {},
   "outputs": [],
   "source": [
    "# 034"
   ]
  },
  {
   "cell_type": "code",
   "execution_count": null,
   "metadata": {},
   "outputs": [],
   "source": [
    "# 035"
   ]
  },
  {
   "cell_type": "code",
   "execution_count": null,
   "metadata": {},
   "outputs": [],
   "source": [
    "# 036"
   ]
  },
  {
   "cell_type": "code",
   "execution_count": null,
   "metadata": {},
   "outputs": [],
   "source": [
    "# 037"
   ]
  },
  {
   "cell_type": "code",
   "execution_count": null,
   "metadata": {},
   "outputs": [],
   "source": [
    "# 038"
   ]
  },
  {
   "cell_type": "code",
   "execution_count": null,
   "metadata": {},
   "outputs": [],
   "source": [
    "# 039"
   ]
  },
  {
   "cell_type": "code",
   "execution_count": null,
   "metadata": {},
   "outputs": [],
   "source": [
    "# 040"
   ]
  },
  {
   "cell_type": "code",
   "execution_count": null,
   "metadata": {},
   "outputs": [],
   "source": [
    "# 041"
   ]
  },
  {
   "cell_type": "code",
   "execution_count": null,
   "metadata": {},
   "outputs": [],
   "source": [
    "# 042"
   ]
  },
  {
   "cell_type": "code",
   "execution_count": null,
   "metadata": {},
   "outputs": [],
   "source": [
    "# 043"
   ]
  },
  {
   "cell_type": "code",
   "execution_count": null,
   "metadata": {},
   "outputs": [],
   "source": [
    "# 044"
   ]
  },
  {
   "cell_type": "code",
   "execution_count": null,
   "metadata": {},
   "outputs": [],
   "source": [
    "# 045"
   ]
  },
  {
   "cell_type": "code",
   "execution_count": null,
   "metadata": {},
   "outputs": [],
   "source": [
    "# 046"
   ]
  },
  {
   "cell_type": "code",
   "execution_count": null,
   "metadata": {},
   "outputs": [],
   "source": [
    "# 047"
   ]
  },
  {
   "cell_type": "code",
   "execution_count": null,
   "metadata": {},
   "outputs": [],
   "source": [
    "# 048"
   ]
  },
  {
   "cell_type": "code",
   "execution_count": null,
   "metadata": {},
   "outputs": [],
   "source": [
    "# 049"
   ]
  },
  {
   "cell_type": "code",
   "execution_count": null,
   "metadata": {},
   "outputs": [],
   "source": [
    "# 050"
   ]
  },
  {
   "cell_type": "code",
   "execution_count": null,
   "metadata": {},
   "outputs": [],
   "source": [
    "# 051"
   ]
  },
  {
   "cell_type": "code",
   "execution_count": null,
   "metadata": {},
   "outputs": [],
   "source": [
    "# 052"
   ]
  },
  {
   "cell_type": "code",
   "execution_count": null,
   "metadata": {},
   "outputs": [],
   "source": [
    "# 053"
   ]
  },
  {
   "cell_type": "code",
   "execution_count": null,
   "metadata": {},
   "outputs": [],
   "source": [
    "# 054"
   ]
  },
  {
   "cell_type": "code",
   "execution_count": null,
   "metadata": {},
   "outputs": [],
   "source": [
    "# 055"
   ]
  },
  {
   "cell_type": "code",
   "execution_count": null,
   "metadata": {},
   "outputs": [],
   "source": [
    "# 056"
   ]
  },
  {
   "cell_type": "code",
   "execution_count": null,
   "metadata": {},
   "outputs": [],
   "source": [
    "# 057"
   ]
  },
  {
   "cell_type": "code",
   "execution_count": null,
   "metadata": {},
   "outputs": [],
   "source": [
    "# 058"
   ]
  },
  {
   "cell_type": "code",
   "execution_count": null,
   "metadata": {},
   "outputs": [],
   "source": [
    "# 059"
   ]
  },
  {
   "cell_type": "code",
   "execution_count": null,
   "metadata": {},
   "outputs": [],
   "source": [
    "# 060"
   ]
  },
  {
   "cell_type": "code",
   "execution_count": null,
   "metadata": {},
   "outputs": [],
   "source": [
    "# 061"
   ]
  },
  {
   "cell_type": "code",
   "execution_count": null,
   "metadata": {},
   "outputs": [],
   "source": [
    "# 062"
   ]
  },
  {
   "cell_type": "code",
   "execution_count": null,
   "metadata": {},
   "outputs": [],
   "source": [
    "# 063"
   ]
  },
  {
   "cell_type": "code",
   "execution_count": null,
   "metadata": {},
   "outputs": [],
   "source": [
    "# 064"
   ]
  },
  {
   "cell_type": "code",
   "execution_count": null,
   "metadata": {},
   "outputs": [],
   "source": [
    "# 065"
   ]
  },
  {
   "cell_type": "code",
   "execution_count": null,
   "metadata": {},
   "outputs": [],
   "source": [
    "# 066"
   ]
  },
  {
   "cell_type": "code",
   "execution_count": null,
   "metadata": {},
   "outputs": [],
   "source": [
    "# 067"
   ]
  },
  {
   "cell_type": "code",
   "execution_count": null,
   "metadata": {},
   "outputs": [],
   "source": [
    "# 068"
   ]
  },
  {
   "cell_type": "code",
   "execution_count": null,
   "metadata": {},
   "outputs": [],
   "source": [
    "# 069"
   ]
  },
  {
   "cell_type": "code",
   "execution_count": null,
   "metadata": {},
   "outputs": [],
   "source": [
    "# 070"
   ]
  },
  {
   "cell_type": "code",
   "execution_count": null,
   "metadata": {},
   "outputs": [],
   "source": [
    "# 071"
   ]
  },
  {
   "cell_type": "code",
   "execution_count": null,
   "metadata": {},
   "outputs": [],
   "source": [
    "# 072"
   ]
  },
  {
   "cell_type": "code",
   "execution_count": null,
   "metadata": {},
   "outputs": [],
   "source": [
    "# 073"
   ]
  },
  {
   "cell_type": "code",
   "execution_count": null,
   "metadata": {},
   "outputs": [],
   "source": [
    "# 074"
   ]
  },
  {
   "cell_type": "code",
   "execution_count": null,
   "metadata": {},
   "outputs": [],
   "source": [
    "# 075"
   ]
  },
  {
   "cell_type": "code",
   "execution_count": null,
   "metadata": {},
   "outputs": [],
   "source": [
    "# 076"
   ]
  },
  {
   "cell_type": "code",
   "execution_count": null,
   "metadata": {},
   "outputs": [],
   "source": [
    "# 077"
   ]
  },
  {
   "cell_type": "code",
   "execution_count": null,
   "metadata": {},
   "outputs": [],
   "source": [
    "# 078"
   ]
  },
  {
   "cell_type": "code",
   "execution_count": null,
   "metadata": {},
   "outputs": [],
   "source": [
    "# 079"
   ]
  },
  {
   "cell_type": "code",
   "execution_count": null,
   "metadata": {},
   "outputs": [],
   "source": [
    "# 080"
   ]
  },
  {
   "cell_type": "code",
   "execution_count": null,
   "metadata": {},
   "outputs": [],
   "source": [
    "# 081"
   ]
  },
  {
   "cell_type": "code",
   "execution_count": null,
   "metadata": {},
   "outputs": [],
   "source": [
    "# 082"
   ]
  },
  {
   "cell_type": "code",
   "execution_count": null,
   "metadata": {},
   "outputs": [],
   "source": [
    "# 083"
   ]
  },
  {
   "cell_type": "code",
   "execution_count": null,
   "metadata": {},
   "outputs": [],
   "source": [
    "# 084"
   ]
  },
  {
   "cell_type": "code",
   "execution_count": null,
   "metadata": {},
   "outputs": [],
   "source": [
    "# 085"
   ]
  },
  {
   "cell_type": "code",
   "execution_count": null,
   "metadata": {},
   "outputs": [],
   "source": [
    "# 086"
   ]
  },
  {
   "cell_type": "code",
   "execution_count": null,
   "metadata": {},
   "outputs": [],
   "source": [
    "# 087"
   ]
  },
  {
   "cell_type": "code",
   "execution_count": null,
   "metadata": {},
   "outputs": [],
   "source": [
    "# 088"
   ]
  },
  {
   "cell_type": "code",
   "execution_count": null,
   "metadata": {},
   "outputs": [],
   "source": [
    "# 089"
   ]
  },
  {
   "cell_type": "code",
   "execution_count": null,
   "metadata": {},
   "outputs": [],
   "source": [
    "# 090"
   ]
  },
  {
   "cell_type": "code",
   "execution_count": null,
   "metadata": {},
   "outputs": [],
   "source": [
    "# 091"
   ]
  },
  {
   "cell_type": "code",
   "execution_count": null,
   "metadata": {},
   "outputs": [],
   "source": [
    "# 092"
   ]
  },
  {
   "cell_type": "code",
   "execution_count": null,
   "metadata": {},
   "outputs": [],
   "source": [
    "# 093"
   ]
  },
  {
   "cell_type": "code",
   "execution_count": null,
   "metadata": {},
   "outputs": [],
   "source": [
    "# 094"
   ]
  },
  {
   "cell_type": "code",
   "execution_count": null,
   "metadata": {},
   "outputs": [],
   "source": [
    "# 095"
   ]
  },
  {
   "cell_type": "code",
   "execution_count": null,
   "metadata": {},
   "outputs": [],
   "source": [
    "# 096"
   ]
  },
  {
   "cell_type": "code",
   "execution_count": null,
   "metadata": {},
   "outputs": [],
   "source": [
    "# 097"
   ]
  },
  {
   "cell_type": "code",
   "execution_count": null,
   "metadata": {},
   "outputs": [],
   "source": [
    "# 098"
   ]
  },
  {
   "cell_type": "code",
   "execution_count": null,
   "metadata": {},
   "outputs": [],
   "source": [
    "# 099"
   ]
  },
  {
   "cell_type": "code",
   "execution_count": null,
   "metadata": {},
   "outputs": [],
   "source": [
    "# 100"
   ]
  }
 ],
 "metadata": {
  "kernelspec": {
   "display_name": "Python 3",
   "language": "python",
   "name": "python3"
  },
  "language_info": {
   "codemirror_mode": {
    "name": "ipython",
    "version": 3
   },
   "file_extension": ".py",
   "mimetype": "text/x-python",
   "name": "python",
   "nbconvert_exporter": "python",
   "pygments_lexer": "ipython3",
   "version": "3.6.3"
  }
 },
 "nbformat": 4,
 "nbformat_minor": 2
}
