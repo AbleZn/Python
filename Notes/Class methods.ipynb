{
 "cells": [
  {
   "cell_type": "markdown",
   "metadata": {},
   "source": [
    "## Class methods\n",
    "There are three class methods: instance_method(),static_method() and class_method()"
   ]
  },
  {
   "cell_type": "code",
   "execution_count": 3,
   "metadata": {},
   "outputs": [
    {
     "name": "stdout",
     "output_type": "stream",
     "text": [
      "This is intance_method, only can applied in instance object\n",
      "Static method\n",
      "Class method\n",
      "------------------\n",
      "Static method\n",
      "Class method\n"
     ]
    }
   ],
   "source": [
    "class Foo(object):\n",
    "    def intance_method(self):\n",
    "        print('This is intance_method, only can applied in instance object'.\n",
    "              format(Foo))\n",
    "\n",
    "    @staticmethod\n",
    "    def static_method():\n",
    "        print('Static method')\n",
    "\n",
    "    @classmethod\n",
    "    def class_method(cls):\n",
    "        print('Class method')\n",
    "\n",
    "\n",
    "foo = Foo()\n",
    "foo.intance_method()\n",
    "foo.static_method()\n",
    "foo.class_method()\n",
    "print('------------------')\n",
    "Foo.static_method()\n",
    "Foo.class_method()"
   ]
  },
  {
   "cell_type": "markdown",
   "metadata": {},
   "source": [
    "1. 实例方法，只能被实例对象调用，第一个参数必须要默认传实例对象，一般习惯用self。\n",
    "2. 静态方法，(由@staticmethod装饰的方法)，可以被类或类的实例对象调用，参数没有要求。\n",
    "3. 类方法，(由@classmethod装饰的方法)，可以被类或类的实例对象调用，第一个参数必须要默认传类，一般习惯用cls。"
   ]
  },
  {
   "cell_type": "markdown",
   "metadata": {},
   "source": [
    "### 1.类方法用在模拟java定义多个构造函数\n",
    "由于python类中只能有一个初始化方法，不能按照不同的情况初始化类。"
   ]
  },
  {
   "cell_type": "code",
   "execution_count": 5,
   "metadata": {},
   "outputs": [
    {
     "name": "stdout",
     "output_type": "stream",
     "text": [
      "Python\n",
      "Python and Java\n"
     ]
    }
   ],
   "source": [
    "class Book(object):\n",
    "    def __init__(self, title):\n",
    "        self.title = title\n",
    "\n",
    "    @classmethod\n",
    "    def creat(cls, title):\n",
    "        book = cls(title=title)\n",
    "        return book\n",
    "\n",
    "\n",
    "book1 = Book('Python')\n",
    "book2 = Book.creat('Python and Java')\n",
    "print(book1.title)\n",
    "print(book2.title)"
   ]
  },
  {
   "cell_type": "markdown",
   "metadata": {},
   "source": [
    "### 2. 类中静态方法方法调用静态方法的情况。\n",
    "静态方法调用另一个静态方法，如果改用类方法调用静态方法，可以让cls代替类，"
   ]
  },
  {
   "cell_type": "code",
   "execution_count": 7,
   "metadata": {},
   "outputs": [
    {
     "name": "stdout",
     "output_type": "stream",
     "text": [
      "1.5\n",
      "1.5\n"
     ]
    }
   ],
   "source": [
    "class Foo(object):\n",
    "    X = 1\n",
    "    Y = 2\n",
    "\n",
    "    @staticmethod\n",
    "    def averag(*mixes):\n",
    "        return sum(mixes) / len(mixes)\n",
    "\n",
    "    @staticmethod\n",
    "    def static_method():\n",
    "        return Foo.averag(Foo.X, Foo.Y)\n",
    "\n",
    "    @classmethod\n",
    "    def class_method(cls):\n",
    "        return cls.averag(cls.X, cls.Y)\n",
    "\n",
    "foo = Foo()\n",
    "print(foo.static_method())\n",
    "print(foo.class_method())"
   ]
  },
  {
   "cell_type": "markdown",
   "metadata": {},
   "source": [
    "### 3. 继承\n",
    "如果子类继承父类的方法，子类覆盖了父类的静态方法，\n",
    "1. 子类的实例继承了父类的static_method静态方法，调用该方法，还是调用的父类的方法和类属性。\n",
    "2. 子类的实例继承了父类的class_method类方法，调用该方法，调用的是子类的方法和子类的类属性。"
   ]
  },
  {
   "cell_type": "code",
   "execution_count": 11,
   "metadata": {},
   "outputs": [
    {
     "name": "stdout",
     "output_type": "stream",
     "text": [
      "1.5\n",
      "2.6666666666666665\n"
     ]
    }
   ],
   "source": [
    "class Foo(object):\n",
    "    X = 1\n",
    "    Y = 2\n",
    "\n",
    "    @staticmethod\n",
    "    def averag(*mixes):\n",
    "        return sum(mixes) / len(mixes)\n",
    "\n",
    "    @staticmethod\n",
    "    def static_method():\n",
    "        return Foo.averag(Foo.X, Foo.Y)\n",
    "\n",
    "    @classmethod\n",
    "    def class_method(cls):\n",
    "        return cls.averag(cls.X, cls.Y)\n",
    "    \n",
    "class Son(Foo):\n",
    "    X = 3\n",
    "    Y = 5\n",
    "    \n",
    "    @staticmethod\n",
    "    def averag(*mixes):\n",
    "        return sum(mixes) /3\n",
    "\n",
    "p = Son()\n",
    "print(p.static_method())\n",
    "print(p.class_method())\n"
   ]
  },
  {
   "cell_type": "code",
   "execution_count": null,
   "metadata": {},
   "outputs": [],
   "source": []
  }
 ],
 "metadata": {
  "kernelspec": {
   "display_name": "Python 3",
   "language": "python",
   "name": "python3"
  },
  "language_info": {
   "codemirror_mode": {
    "name": "ipython",
    "version": 3
   },
   "file_extension": ".py",
   "mimetype": "text/x-python",
   "name": "python",
   "nbconvert_exporter": "python",
   "pygments_lexer": "ipython3",
   "version": "3.6.3"
  }
 },
 "nbformat": 4,
 "nbformat_minor": 2
}
