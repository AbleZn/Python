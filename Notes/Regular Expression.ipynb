{
 "cells": [
  {
   "cell_type": "markdown",
   "metadata": {},
   "source": [
    "## Regular Expression\n",
    "\n",
    "Regular expression is a special sequence, it will help you to check if a string is match a pattern. <br/>\n",
    "import re support all regular expression from Perl. <br/>\n",
    "`compile` provie a regualr expression pattern. "
   ]
  },
  {
   "cell_type": "markdown",
   "metadata": {},
   "source": [
    "## re.match\n",
    "re.match try to match a sequence from start point. if not successful match() return none. <br/>\n",
    "`re.match(pattern, string, flags=0)`\n",
    "\n",
    "| Parameter | description                                            |\n",
    "|-----------|--------------------------------------------------------|\n",
    "| Pattern   | regular expression                                     |\n",
    "| String    | target string to be match                              |\n",
    "| flags     | match method, e.g. case-sensitive, multiple line match |\n",
    "\n",
    "<br/>\n",
    "results:\n",
    "1. `group(num=0)` \n",
    "2. `groups()` return all the groups values,start from 1"
   ]
  },
  {
   "cell_type": "code",
   "execution_count": 1,
   "metadata": {},
   "outputs": [
    {
     "name": "stdout",
     "output_type": "stream",
     "text": [
      "(0, 3)\n",
      "None\n"
     ]
    }
   ],
   "source": [
    "import re\n",
    "print(re.match('www','www.google.co.uk').span()) # span Return a tuple containing the (start, end) positions of the matc\n",
    "print(re.match('uk','www.google.co.uk'))"
   ]
  },
  {
   "cell_type": "code",
   "execution_count": 2,
   "metadata": {},
   "outputs": [
    {
     "name": "stdout",
     "output_type": "stream",
     "text": [
      "matchObj.group() :  Cats are smarter than dogs\n",
      "matchObj.group(1) : Cats\n",
      "matchObj.group(2) : smarter\n"
     ]
    }
   ],
   "source": [
    "import re\n",
    "\n",
    "line = 'Cats are smarter than dogs'\n",
    "\n",
    "matchObj = re.match(r'(.*) are (.*?) .*',line,re.M | re.I)\n",
    "\n",
    "if matchObj:\n",
    "    print('matchObj.group() : ', matchObj.group())\n",
    "    print('matchObj.group(1) :', matchObj.group(1))\n",
    "    print('matchObj.group(2) :', matchObj.group(2))\n",
    "else:\n",
    "    print('not matched')"
   ]
  },
  {
   "cell_type": "markdown",
   "metadata": {},
   "source": [
    "## re.search\n",
    "re.search scan whole string and return the first match. <br/>\n",
    "`re.search(pattern,string,flag=0)`"
   ]
  },
  {
   "cell_type": "code",
   "execution_count": 3,
   "metadata": {},
   "outputs": [
    {
     "name": "stdout",
     "output_type": "stream",
     "text": [
      "searchObj.group() :  Cats are smarter than dogs\n",
      "searchObj.group(1) :  Cats\n",
      "searchObj.group(2) :  smarter\n"
     ]
    }
   ],
   "source": [
    "import re\n",
    "\n",
    "line = \"Cats are smarter than dogs\"\n",
    "searchObj = re.search(r'(.*) are (.*?) .*', line, re.M | re.I)\n",
    "if searchObj:\n",
    "    print(\"searchObj.group() : \", searchObj.group())\n",
    "    print(\"searchObj.group(1) : \", searchObj.group(1))\n",
    "    print(\"searchObj.group(2) : \", searchObj.group(2))\n",
    "else:\n",
    "    print(\"Nothing found!!\")"
   ]
  },
  {
   "cell_type": "markdown",
   "metadata": {},
   "source": [
    "re.match only match from start point, if not match, return none. <br/>\n",
    "re.search search the whole string."
   ]
  },
  {
   "cell_type": "markdown",
   "metadata": {},
   "source": [
    "## re.sub\n",
    "replace the matched part. <br/>\n",
    "`re.sub(pattern, repl, string, count=0, flags=0)` <br/>\n",
    "\n",
    "| Parameter | description                                            |\n",
    "|-----------|--------------------------------------------------------|\n",
    "| Pattern   | regular expression                                     |\n",
    "| repl      | replace sequence,can be a function                     |\n",
    "| string    | target string to be match                              |\n",
    "| count     | total times to replace, default 0 means replace all    |\n",
    "| flags     | match method, e.g. case-sensitive, multiple line match |"
   ]
  },
  {
   "cell_type": "code",
   "execution_count": 4,
   "metadata": {},
   "outputs": [
    {
     "name": "stdout",
     "output_type": "stream",
     "text": [
      "phone number is: 2004 - 959 - 559\n",
      "phone number is: 2004959559\n"
     ]
    }
   ],
   "source": [
    "import re\n",
    "phone = '2004 - 959 - 559' #Phone number\n",
    "\n",
    "# remove comments\n",
    "num = re.sub(r'#.*$', \"\", phone)\n",
    "print('phone number is:', num) \n",
    "\n",
    "# remove '-'\n",
    "num = re.sub(r'\\D', \"\", phone)\n",
    "print('phone number is:', num)"
   ]
  },
  {
   "cell_type": "markdown",
   "metadata": {},
   "source": [
    "#### repl can be a function"
   ]
  },
  {
   "cell_type": "code",
   "execution_count": 5,
   "metadata": {},
   "outputs": [
    {
     "name": "stdout",
     "output_type": "stream",
     "text": [
      "A46G8HFD1134\n"
     ]
    }
   ],
   "source": [
    "def double(matched):\n",
    "    value = int(matched.group('value'))\n",
    "    return str(value * 2)\n",
    "\n",
    "s = 'A23G4HFD567'\n",
    "print(re.sub('(?P<value>\\d+)', double, s))"
   ]
  },
  {
   "cell_type": "markdown",
   "metadata": {},
   "source": [
    "#### flags\n",
    "多个标志可以通过按位 OR(|) 它们来指定。如 re.I | re.M 被设置成 I 和 M 标志：\n",
    "\n",
    "| re.I | 大小写不敏感                                                     |\n",
    "|------|----------------------------------------------------------------|\n",
    "| re.L | 做本地化识别（locale-aware）匹配                                  |\n",
    "| re.M | 多行匹配，影响 ^ 和 $                                            |\n",
    "| re.S | 使 . 匹配包括换行在内的所有字符                                    |\n",
    "| re.U | 根据Unicode字符集解析字符。这个标志影响 \\w, \\W, \\b, \\B.             |\n",
    "| re.X | 该标志通过给予你更灵活的格式以便你将正则表达式写得更易于理解。           |"
   ]
  },
  {
   "cell_type": "markdown",
   "metadata": {},
   "source": [
    "## Pattern\n",
    "模式字符串使用特殊的语法来表示一个正则表达式：<br/>\n",
    "* 字母和数字表示他们自身。一个正则表达式模式中的字母和数字匹配同样的字符串。<br/>\n",
    "* 多数字母和数字前加一个反斜杠时会拥有不同的含义。<br/>\n",
    "* 标点符号只有被转义时才匹配自身，否则它们表示特殊的含义。<br/>\n",
    "* 反斜杠本身需要使用反斜杠转义。<br/>\n",
    "* 由于正则表达式通常都包含反斜杠，所以你最好使用原始字符串来表示它们。模式元素(如 r'/t'，等价于'//t')匹配相应的特殊字符。<br/>\n",
    "\n",
    "|模式|\t描述|\n",
    "|------|----------------------------------------------------------------|\n",
    "|^|\t匹配字符串的开头|\n",
    "|$|\t匹配字符串的末尾。|\n",
    "|.|\t匹配任意字符，除了换行符，当re.DOTALL标记被指定时，则可以匹配包括换行符的任意字符。|\n",
    "|[...]|\t用来表示一组字符,单独列出：[amk] 匹配 'a'，'m'或'k'|\n",
    "|[^...]|\t不在[]中的字符：[^abc] 匹配除了a,b,c之外的字符。|\n",
    "|re*|\t匹配0个或多个的表达式。|\n",
    "|re+|\t匹配1个或多个的表达式。|\n",
    "|re?|\t   匹配0个或1个由前面的正则表达式定义的片段，非贪婪方式|\n",
    "|re{ n}\t||\n",
    "|re{ n,}|\t精确匹配n个前面表达式。|\n",
    "|re{ n, m}|\t匹配 n 到 m 次由前面的正则表达式定义的片段，贪婪方式|\n",
    "| a &#124; b|\t匹配a或b|\n",
    "|(re)|\tG匹配括号内的表达式，也表示一个组|\n",
    "|(?imx)|\t正则表达式包含三种可选标志：i, m, 或 x 。只影响括号中的区域。|\n",
    "|(?-imx)|\t正则表达式关闭 i, m, 或 x 可选标志。只影响括号中的区域。|\n",
    "|(?: re)|\t 类似 (...), 但是不表示一个组|\n",
    "|(?imx: re)|\t在括号中使用i, m, 或 x 可选标志|\n",
    "|(?-imx: re)|\t在括号中不使用i, m, 或 x 可选标志|\n",
    "|(?#...)|\t注释.|\n",
    "|(?= re)|\t前向肯定界定符。如果所含正则表达式，以 ... 表示，在当前位置成功匹配时成功，否则失败。但一旦所含表达式已经尝试，匹配引擎根本没有提高；模式的剩余部分还要尝试界定符的右边。|\n",
    "|(?! re)|\t前向否定界定符。与肯定界定符相反；当所含表达式不能在字符串当前位置匹配时成功|\n",
    "|(?> re)|\t匹配的独立模式，省去回溯。|\n",
    "|\\w|\t 匹配字母数字及下划线|\n",
    "|\\W|\t匹配非字母数字及下划线|\n",
    "|\\s|\t 匹配任意空白字符，等价于 [\\t\\n\\r\\f].|\n",
    "|\\S|\t匹配任意非空字符|\n",
    "|\\d|\t 匹配任意数字，等价于 [0-9].|\n",
    "|\\D|\t匹配任意非数字|\n",
    "|\\A|\t匹配字符串开始|\n",
    "|\\Z|\t匹配字符串结束，如果是存在换行，只匹配到换行前的结束字符串。c|\n",
    "|\\z|\t匹配字符串结束|\n",
    "|\\G|\t匹配最后匹配完成的位置。|\n",
    "|\\b|\t匹配一个单词边界，也就是指单词和空格间的位置。例如， 'er\\b' 可以匹配\"never\" 中的 'er'，但不能匹配 \"verb\" 中的 'er'。|\n",
    "|\\B|\t匹配非单词边界。'er\\B' 能匹配 \"verb\" 中的 'er'，但不能匹配 \"never\" 中的 'er'。|\n",
    "|\\n, \\t, 等.|\t匹配一个换行符。匹配一个制表符。等|\n",
    "|\\1...\\9|\t匹配第n个分组的子表达式。|\n",
    "|\\10|\t匹配第n个分组的子表达式，如果它经匹配。否则指的是八进制字符码的表达式。|"
   ]
  },
  {
   "cell_type": "code",
   "execution_count": null,
   "metadata": {},
   "outputs": [],
   "source": []
  },
  {
   "cell_type": "code",
   "execution_count": null,
   "metadata": {},
   "outputs": [],
   "source": []
  }
 ],
 "metadata": {
  "kernelspec": {
   "display_name": "Python 3",
   "language": "python",
   "name": "python3"
  },
  "language_info": {
   "codemirror_mode": {
    "name": "ipython",
    "version": 3
   },
   "file_extension": ".py",
   "mimetype": "text/x-python",
   "name": "python",
   "nbconvert_exporter": "python",
   "pygments_lexer": "ipython3",
   "version": "3.6.3"
  }
 },
 "nbformat": 4,
 "nbformat_minor": 2
}
