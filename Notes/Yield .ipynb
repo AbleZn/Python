{
 "cells": [
  {
   "cell_type": "markdown",
   "metadata": {},
   "source": [
    "\n",
    "\n",
    "## Iterables 迭代\n",
    "To understand what yield does, you must understand what generators are. And before generators come iterables.\n",
    "<br\\>\n",
    "When you create a list, you can read its items one by one. Reading its items one by one is called iteration:"
   ]
  },
  {
   "cell_type": "code",
   "execution_count": 1,
   "metadata": {},
   "outputs": [
    {
     "name": "stdout",
     "output_type": "stream",
     "text": [
      "1\n",
      "2\n",
      "3\n"
     ]
    }
   ],
   "source": [
    "mylist = [1, 2, 3]\n",
    "for i in mylist:\n",
    "    print(i)"
   ]
  },
  {
   "cell_type": "code",
   "execution_count": 2,
   "metadata": {},
   "outputs": [
    {
     "name": "stdout",
     "output_type": "stream",
     "text": [
      "0\n",
      "1\n",
      "4\n"
     ]
    }
   ],
   "source": [
    "mylist = [x * x for x in range(3)]\n",
    "for i in mylist:\n",
    "    print(i)"
   ]
  },
  {
   "cell_type": "markdown",
   "metadata": {},
   "source": [
    "`mylist` is an `iterable`. When you use a list comprehension, you create a list, and so an iterable.\n",
    "These iterables are handy because you can read them as much as you wish, but you store all the values in memory and this is not always what you want when you have a lot of values."
   ]
  },
  {
   "cell_type": "markdown",
   "metadata": {},
   "source": [
    "## Generators\n",
    "Generators are iterators, but you can only iterate over them `once`. It's because they do not store all the values in memory, they generate the values on the fly:"
   ]
  },
  {
   "cell_type": "code",
   "execution_count": 3,
   "metadata": {},
   "outputs": [
    {
     "name": "stdout",
     "output_type": "stream",
     "text": [
      "0\n",
      "1\n",
      "4\n"
     ]
    }
   ],
   "source": [
    "mygenerator = (x*x for x in range(3))\n",
    "for i in mygenerator:\n",
    "    print(i)"
   ]
  },
  {
   "cell_type": "markdown",
   "metadata": {},
   "source": [
    "It is just the same except you used `()` instead of `[]`. BUT, you cannot perform for i in mygenerator a second time since generators can only be used once: they calculate 0, then forget about it and calculate 1, and end calculating 4, one by one."
   ]
  },
  {
   "cell_type": "markdown",
   "metadata": {},
   "source": [
    "## Yield\n",
    "yield is a keyword that is used like return, except the function will return a generator. using a interator to check the value of a generator."
   ]
  },
  {
   "cell_type": "code",
   "execution_count": 5,
   "metadata": {},
   "outputs": [
    {
     "name": "stdout",
     "output_type": "stream",
     "text": [
      "<generator object creatGenerator at 0x10986db48>\n",
      "0\n",
      "1\n",
      "4\n"
     ]
    }
   ],
   "source": [
    "def creatGenerator():\n",
    "    mylist = range(3)\n",
    "    for i in mylist:\n",
    "        yield i * i\n",
    "\n",
    "\n",
    "myGenerator = creatGenerator()\n",
    "print(myGenerator)\n",
    "for i in myGenerator:\n",
    "    print(i)"
   ]
  },
  {
   "cell_type": "markdown",
   "metadata": {},
   "source": [
    "Key point: when you call the function, the code you have written in the function body does not run. The function only returns the generator object. <br/><br/>\n",
    "1. function每次都是从第一行开始运行，而generator从上一次yield开始的地方运行\n",
    "2. function调用一次返回一个（一组）值，而generator可以多次返回\n",
    "3. function可以被无数次重复调用，而一个generator实例在yield最后一个值 或者return之后就不能继续调用了"
   ]
  },
  {
   "cell_type": "markdown",
   "metadata": {},
   "source": [
    "## Use case:"
   ]
  },
  {
   "cell_type": "code",
   "execution_count": 3,
   "metadata": {},
   "outputs": [
    {
     "name": "stdout",
     "output_type": "stream",
     "text": [
      "0\n",
      "1\n",
      "4\n",
      "\n",
      "0\n",
      "1\n",
      "4\n"
     ]
    }
   ],
   "source": [
    "num = 3\n",
    "for i in [x*x for x in range(num)]:\n",
    "    print(i)\n",
    "\n",
    "print()\n",
    "\n",
    "for i in (x*x for x in range(num)): #return a generator, data not save in memory\n",
    "    print(i)\n",
    "    "
   ]
  },
  {
   "cell_type": "code",
   "execution_count": 5,
   "metadata": {},
   "outputs": [
    {
     "data": {
      "text/plain": [
       "<generator object fib at 0x109f9e048>"
      ]
     },
     "execution_count": 5,
     "metadata": {},
     "output_type": "execute_result"
    }
   ],
   "source": [
    "# infinit \n",
    "def fib():\n",
    "    a,b=1,1\n",
    "    while True:\n",
    "        yield a\n",
    "        a,b = b, a+b\n",
    "\n",
    "fib()"
   ]
  },
  {
   "cell_type": "markdown",
   "metadata": {},
   "source": [
    "### 如何调用嵌套 yield"
   ]
  },
  {
   "cell_type": "code",
   "execution_count": 7,
   "metadata": {},
   "outputs": [
    {
     "name": "stdout",
     "output_type": "stream",
     "text": [
      "1\n",
      "2\n",
      "5\n"
     ]
    }
   ],
   "source": [
    "def visit(data):\n",
    "    for elem in data:\n",
    "        if isinstance(elem, tuple) or isinstance(elem, list):\n",
    "            visit(elem)  # here value retuened is generator\n",
    "        else:\n",
    "            yield elem\n",
    "\n",
    "\n",
    "if __name__ == '__main__':\n",
    "    for e in visit([1, 2, (3, 4), 5]):\n",
    "        print(e)"
   ]
  },
  {
   "cell_type": "markdown",
   "metadata": {},
   "source": [
    "上面的代码访问嵌套序列里面的每一个元素，我们期望的输出是`1 2 3 4 5`，而实际输出是`1  2  5` 。为什么呢，如注释所示，visit是一个`generator function`，所以第4行返回的是`generator object`，而代码也没这个generator实例迭代。那么改改代码，对这个临时的generator 进行迭代就行了。"
   ]
  },
  {
   "cell_type": "code",
   "execution_count": 10,
   "metadata": {},
   "outputs": [
    {
     "name": "stdout",
     "output_type": "stream",
     "text": [
      "1\n",
      "2\n",
      "3\n",
      "4\n",
      "5\n"
     ]
    }
   ],
   "source": [
    "def visit(data):\n",
    "    for elem in data:\n",
    "        if isinstance(elem,tuple) or isinstance(elem,list):\n",
    "            for e in visit(elem):\n",
    "                yield e\n",
    "        else:\n",
    "            yield elem\n",
    "if __name__ == '__main__':\n",
    "    for e in visit([1,2,(3,4),5]):\n",
    "        print(e)"
   ]
  },
  {
   "cell_type": "code",
   "execution_count": null,
   "metadata": {},
   "outputs": [],
   "source": []
  }
 ],
 "metadata": {
  "kernelspec": {
   "display_name": "Python 3",
   "language": "python",
   "name": "python3"
  },
  "language_info": {
   "codemirror_mode": {
    "name": "ipython",
    "version": 3
   },
   "file_extension": ".py",
   "mimetype": "text/x-python",
   "name": "python",
   "nbconvert_exporter": "python",
   "pygments_lexer": "ipython3",
   "version": "3.6.3"
  }
 },
 "nbformat": 4,
 "nbformat_minor": 2
}
