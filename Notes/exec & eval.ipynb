{
 "cells": [
  {
   "cell_type": "markdown",
   "metadata": {},
   "source": [
    "## Exec & eval\n",
    "python 动态执行字符串代码片段（也可以是文件）， 一般会用到`exec`,`eval`。<br/>\n",
    "因为执行代码，涉及到作用域的问题 i.e. global & local"
   ]
  },
  {
   "cell_type": "markdown",
   "metadata": {},
   "source": [
    "### 1. exec: \n",
    "This function supports dynamic execution of Python code. object must be either a string or a code object.<br/>\n",
    "\n",
    "`exec(object[, globals[, locals]])` <br/>\n",
    "\n",
    "* object：必选参数，表示需要被指定的Python代码。它必须是字符串或code对象。如果object是一个字符串，该字符串会先被解析为一组Python语句，然后在执行（除非发生语法错误）。如果object是一个code对象，那么它只是被简单的执行。\n",
    "* globals：可选参数，表示全局命名空间（存放全局变量），如果被提供，则必须是一个字典对象。\n",
    "* locals：可选参数，表示当前局部命名空间（存放局部变量），如果被提供，可以是任何映射对象。如果该参数被忽略，那么它将会取与globals相同的值。\n",
    "\n",
    "<br/>\n",
    "`tips`: return value will be None"
   ]
  },
  {
   "cell_type": "code",
   "execution_count": 3,
   "metadata": {},
   "outputs": [
    {
     "name": "stdout",
     "output_type": "stream",
     "text": [
      "hello wolrd\n"
     ]
    }
   ],
   "source": [
    "# exe single line\n",
    "exec('print(\"hello wolrd\")')"
   ]
  },
  {
   "cell_type": "code",
   "execution_count": 5,
   "metadata": {},
   "outputs": [
    {
     "name": "stdout",
     "output_type": "stream",
     "text": [
      "0\n",
      "1\n",
      "2\n",
      "3\n",
      "4\n"
     ]
    }
   ],
   "source": [
    "# exe multiple line\n",
    "exec(\"\"\"for i in range(5):\n",
    "            print(i)\n",
    "\"\"\")"
   ]
  },
  {
   "cell_type": "code",
   "execution_count": 7,
   "metadata": {},
   "outputs": [
    {
     "name": "stdout",
     "output_type": "stream",
     "text": [
      "10 20 30\n",
      "60\n",
      "1 2 30\n",
      "33\n",
      "1 3 30\n",
      "34\n"
     ]
    }
   ],
   "source": [
    "# priority： expr > local > global\n",
    "x = 10 \n",
    "expr = \"\"\"\n",
    "z = 30\n",
    "sum = x + y +z\n",
    "print(x,y,z)\n",
    "print(sum)\n",
    "\"\"\"\n",
    "def func():\n",
    "    y = 20\n",
    "    exec(expr)\n",
    "    exec(expr,{'x':1, 'y':2})\n",
    "    exec(expr,{'x':1, 'y':2},{'y':3,'z':4})\n",
    "func()"
   ]
  },
  {
   "cell_type": "markdown",
   "metadata": {},
   "source": [
    "### eval\n",
    "The arguments are a string and optional globals and locals. If provided, globals must be a dictionary. If provided, locals can be any mapping object. <br/>\n",
    "\n",
    "`eval(expression[, globals[, locals]])`\n",
    "* expression -- 表达式。\n",
    "* globals -- 变量作用域，全局命名空间，如果被提供，则必须是一个字典对象。\n",
    "* locals -- 变量作用域，局部命名空间，如果被提供，可以是任何映射对象。\n",
    "\n",
    "`tips`: return value is the implement result\n"
   ]
  },
  {
   "cell_type": "code",
   "execution_count": 8,
   "metadata": {},
   "outputs": [
    {
     "data": {
      "text/plain": [
       "21"
      ]
     },
     "execution_count": 8,
     "metadata": {},
     "output_type": "execute_result"
    }
   ],
   "source": [
    "x = 7\n",
    "eval('3*x')"
   ]
  },
  {
   "cell_type": "code",
   "execution_count": 9,
   "metadata": {},
   "outputs": [
    {
     "data": {
      "text/plain": [
       "8"
      ]
     },
     "execution_count": 9,
     "metadata": {},
     "output_type": "execute_result"
    }
   ],
   "source": [
    "eval('pow(2,3)')"
   ]
  },
  {
   "cell_type": "code",
   "execution_count": 12,
   "metadata": {},
   "outputs": [
    {
     "data": {
      "text/plain": [
       "27"
      ]
     },
     "execution_count": 12,
     "metadata": {},
     "output_type": "execute_result"
    }
   ],
   "source": [
    "a, b, c = 10,20,30\n",
    "g = {'a':6, 'b':8}\n",
    "l = {'b':11,'c':10 }\n",
    "eval('a+b+c',g,l) #6 + 11 + 10"
   ]
  },
  {
   "cell_type": "code",
   "execution_count": null,
   "metadata": {},
   "outputs": [],
   "source": []
  }
 ],
 "metadata": {
  "kernelspec": {
   "display_name": "Python 3",
   "language": "python",
   "name": "python3"
  },
  "language_info": {
   "codemirror_mode": {
    "name": "ipython",
    "version": 3
   },
   "file_extension": ".py",
   "mimetype": "text/x-python",
   "name": "python",
   "nbconvert_exporter": "python",
   "pygments_lexer": "ipython3",
   "version": "3.6.3"
  }
 },
 "nbformat": 4,
 "nbformat_minor": 2
}
